{
 "cells": [
  {
   "cell_type": "code",
   "execution_count": 3,
   "id": "f6a3561b",
   "metadata": {},
   "outputs": [],
   "source": [
    "import pandas as pd\n",
    "import numpy as np\n",
    "import librosa\n",
    "import soundfile as sf\n",
    "import os\n",
    "from audiomentations import Compose, AddGaussianNoise, TimeStretch, PitchShift, Shift\n",
    "from tqdm.notebook import tqdm"
   ]
  },
  {
   "cell_type": "code",
   "execution_count": 2,
   "id": "1af435b8",
   "metadata": {},
   "outputs": [],
   "source": [
    "train=pd.read_csv('../Data/train_df.csv')"
   ]
  },
  {
   "cell_type": "code",
   "execution_count": 4,
   "id": "ad0ec855",
   "metadata": {},
   "outputs": [
    {
     "name": "stdout",
     "output_type": "stream",
     "text": [
      "Augmented files will be saved to: 'augmented_audio/'\n"
     ]
    }
   ],
   "source": [
    "# --- Define Configuration ---\n",
    "SAMPLE_RATE = 22050  # Use the same sample rate you used for feature extraction\n",
    "N_AUGMENTATIONS = 2  # How many augmented versions to create for EACH original audio file\n",
    "\n",
    "# Create a directory to save the augmented files\n",
    "AUGMENTED_DIR = 'augmented_audio'\n",
    "if not os.path.exists(AUGMENTED_DIR):\n",
    "    os.makedirs(AUGMENTED_DIR)\n",
    "\n",
    "print(f\"Augmented files will be saved to: '{AUGMENTED_DIR}/'\")"
   ]
  },
  {
   "cell_type": "code",
   "execution_count": 6,
   "id": "f188f7ef",
   "metadata": {},
   "outputs": [],
   "source": [
    "# Define the augmentation pipeline\n",
    "# Each augmentation has a probability 'p' of being applied.\n",
    "augment = Compose([\n",
    "    AddGaussianNoise(min_amplitude=0.001, max_amplitude=0.015, p=0.5),\n",
    "    TimeStretch(min_rate=0.8, max_rate=1.25, p=0.5),\n",
    "    PitchShift(min_semitones=-4, max_semitones=4, p=0.5),\n",
    "    Shift(min_shift=-0.5, max_shift=0.5, p=0.5),\n",
    "])"
   ]
  },
  {
   "cell_type": "code",
   "execution_count": 8,
   "id": "246df288",
   "metadata": {},
   "outputs": [
    {
     "name": "stdout",
     "output_type": "stream",
     "text": [
      "Starting augmentation process. Creating 2 new versions for each audio file...\n"
     ]
    },
    {
     "data": {
      "application/vnd.jupyter.widget-view+json": {
       "model_id": "a75f4dcf77ab486fa045e37c019feaf1",
       "version_major": 2,
       "version_minor": 0
      },
      "text/plain": [
       "  0%|          | 0/1470 [00:00<?, ?it/s]"
      ]
     },
     "metadata": {},
     "output_type": "display_data"
    },
    {
     "name": "stdout",
     "output_type": "stream",
     "text": [
      "Augmentation process complete!\n"
     ]
    }
   ],
   "source": [
    "# This list will hold the new paths and emotions for our augmented data\n",
    "augmented_data = []\n",
    "\n",
    "print(f\"Starting augmentation process. Creating {N_AUGMENTATIONS} new versions for each audio file...\")\n",
    "\n",
    "# Use tqdm for a nice progress bar\n",
    "for _, row in tqdm(train.iterrows(), total=len(train)):\n",
    "    original_path = row['path']\n",
    "    emotion = row['emotions']\n",
    "    \n",
    "    try:\n",
    "        # Load the original audio file\n",
    "        audio, sr = librosa.load(original_path, sr=SAMPLE_RATE)\n",
    "        \n",
    "        # Create N augmented versions of this file\n",
    "        for i in range(N_AUGMENTATIONS):\n",
    "            # Apply the augmentation pipeline\n",
    "            augmented_samples = augment(samples=audio, sample_rate=sr)\n",
    "            \n",
    "            # Create a new filename for the augmented audio\n",
    "            original_filename = os.path.basename(original_path)\n",
    "            augmented_filename = f\"{os.path.splitext(original_filename)[0]}_aug_{i}.wav\"\n",
    "            augmented_path = os.path.join(AUGMENTED_DIR, augmented_filename)\n",
    "            \n",
    "            # Save the augmented audio file\n",
    "            sf.write(augmented_path, augmented_samples, sr)\n",
    "            \n",
    "            # Add the new path and its emotion to our list\n",
    "            augmented_data.append([augmented_path, emotion])\n",
    "            \n",
    "    except Exception as e:\n",
    "        print(f\"Could not process {original_path}. Error: {e}\")\n",
    "\n",
    "print(\"Augmentation process complete!\")"
   ]
  },
  {
   "cell_type": "code",
   "execution_count": 15,
   "id": "22405307",
   "metadata": {},
   "outputs": [
    {
     "name": "stdout",
     "output_type": "stream",
     "text": [
      "\n",
      "Number of original training samples: 1470\n",
      "Number of newly generated augmented samples: 2940\n",
      "Total size of the new combined training set: 4410\n",
      "\n",
      "New training DataFrame head:\n",
      "  emotions                                            path type\n",
      "0      sad  augmented_audio/03-01-04-02-02-02-08_aug_0.wav  NaN\n",
      "1     calm  augmented_audio/03-02-02-01-01-02-12_aug_1.wav  NaN\n",
      "2    angry  augmented_audio/03-01-05-01-01-01-09_aug_1.wav  NaN\n",
      "3     calm  augmented_audio/03-02-02-02-01-02-01_aug_1.wav  NaN\n",
      "4      sad  augmented_audio/03-02-04-01-01-01-22_aug_1.wav  NaN\n",
      "\n",
      "Saved the final augmented training data to 'train_augmented.csv'\n"
     ]
    }
   ],
   "source": [
    "# Create a DataFrame from the augmented data list\n",
    "augmented_df = pd.DataFrame(augmented_data, columns=['path', 'emotions'])\n",
    "\n",
    "print(f\"\\nNumber of original training samples: {len(train)}\")\n",
    "print(f\"Number of newly generated augmented samples: {len(augmented_df)}\")\n",
    "\n",
    "# Combine the original and augmented dataframes\n",
    "final_train_df = pd.concat([train, augmented_df], ignore_index=True)\n",
    "\n",
    "# Shuffle the combined dataframe to mix original and augmented data\n",
    "final_train_df = final_train_df.sample(frac=1).reset_index(drop=True)\n",
    "\n",
    "print(f\"Total size of the new combined training set: {len(final_train_df)}\")\n",
    "print(\"\\nNew training DataFrame head:\")\n",
    "print(final_train_df.head())\n",
    "\n",
    "# Save the new, combined and shuffled training dataframe to a CSV file\n",
    "final_train_df.to_csv('../Data/train_augmented.csv', index=False)\n",
    "\n",
    "print(\"\\nSaved the final augmented training data to 'train_augmented.csv'\")"
   ]
  },
  {
   "cell_type": "code",
   "execution_count": 14,
   "id": "80bb7c20",
   "metadata": {},
   "outputs": [
    {
     "data": {
      "text/plain": [
       "0"
      ]
     },
     "execution_count": 14,
     "metadata": {},
     "output_type": "execute_result"
    }
   ],
   "source": [
    "final_train_df['emotions'].isna().sum()"
   ]
  },
  {
   "cell_type": "code",
   "execution_count": 16,
   "id": "f6a3cb57",
   "metadata": {},
   "outputs": [
    {
     "data": {
      "text/plain": [
       "<Axes: xlabel='emotions'>"
      ]
     },
     "execution_count": 16,
     "metadata": {},
     "output_type": "execute_result"
    },
    {
     "data": {
      "image/png": "[encoded data removed]",
      "text/plain": [
       "<Figure size 1000x600 with 1 Axes>"
      ]
     },
     "metadata": {},
     "output_type": "display_data"
    }
   ],
   "source": [
    "# draw a bar plot of the number of samples in each emotion\n",
    "from matplotlib import pyplot as plt\n",
    "\n",
    "\n",
    "plt.figure(figsize=(10, 6))\n",
    "final_train_df['emotions'].value_counts().plot(kind='bar')  "
   ]
  },
  {
   "cell_type": "code",
   "execution_count": null,
   "id": "55da61e3",
   "metadata": {},
   "outputs": [],
   "source": []
  }
 ],
 "metadata": {
  "kernelspec": {
   "display_name": "base",
   "language": "python",
   "name": "python3"
  },
  "language_info": {
   "codemirror_mode": {
    "name": "ipython",
    "version": 3
   },
   "file_extension": ".py",
   "mimetype": "text/x-python",
   "name": "python",
   "nbconvert_exporter": "python",
   "pygments_lexer": "ipython3",
   "version": "3.12.7"
  }
 },
 "nbformat": 4,
 "nbformat_minor": 5
}

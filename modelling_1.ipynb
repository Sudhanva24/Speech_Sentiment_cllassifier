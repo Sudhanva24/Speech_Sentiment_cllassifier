{
 "cells": [
  {
   "cell_type": "code",
   "execution_count": 1,
   "metadata": {
    "_cell_guid": "b1076dfc-b9ad-4769-8c92-a6c4dae69d19",
    "_uuid": "8f2839f25d086af736a60e9eeb907d3b93b6e0e5",
    "execution": {
     "iopub.execute_input": "2025-06-24T08:53:40.490626Z",
     "iopub.status.busy": "2025-06-24T08:53:40.490389Z",
     "iopub.status.idle": "2025-06-24T08:53:42.667281Z",
     "shell.execute_reply": "2025-06-24T08:53:42.666172Z",
     "shell.execute_reply.started": "2025-06-24T08:53:40.490608Z"
    },
    "trusted": true
   },
   "outputs": [
    {
     "name": "stdout",
     "output_type": "stream",
     "text": [
      "/kaggle/input/audio-dataset/label_encoder.joblib\n",
      "/kaggle/input/audio-dataset/scaler.joblib\n",
      "/kaggle/input/audio-dataset/audio_data_processed.npz\n",
      "/kaggle/input/audio-dataset-new/label_encoder.joblib\n",
      "/kaggle/input/audio-dataset-new/scaler.joblib\n",
      "/kaggle/input/audio-dataset-new/audio_data_processed.npz\n"
     ]
    }
   ],
   "source": [
    "# This Python 3 environment comes with many helpful analytics libraries installed\n",
    "# It is defined by the kaggle/python Docker image: https://github.com/kaggle/docker-python\n",
    "# For example, here's several helpful packages to load\n",
    "import torch\n",
    "import torch.nn as nn\n",
    "import torch.optim as optim\n",
    "from torch.utils.data import DataLoader, TensorDataset\n",
    "import numpy as np # linear algebra\n",
    "import pandas as pd # data processing, CSV file I/O (e.g. pd.read_csv)\n",
    "\n",
    "# Input data files are available in the read-only \"../input/\" directory\n",
    "# For example, running this (by clicking run or pressing Shift+Enter) will list all files under the input directory\n",
    "\n",
    "import os\n",
    "for dirname, _, filenames in os.walk('/kaggle/input'):\n",
    "    for filename in filenames:\n",
    "        print(os.path.join(dirname, filename))\n",
    "\n",
    "# You can write up to 20GB to the current directory (/kaggle/working/) that gets preserved as output when you create a version using \"Save & Run All\" \n",
    "# You can also write temporary files to /kaggle/temp/, but they won't be saved outside of the current session"
   ]
  },
  {
   "cell_type": "code",
   "execution_count": 2,
   "metadata": {
    "execution": {
     "iopub.execute_input": "2025-06-24T08:53:58.837721Z",
     "iopub.status.busy": "2025-06-24T08:53:58.836869Z",
     "iopub.status.idle": "2025-06-24T08:54:00.825506Z",
     "shell.execute_reply": "2025-06-24T08:54:00.824725Z",
     "shell.execute_reply.started": "2025-06-24T08:53:58.837690Z"
    },
    "trusted": true
   },
   "outputs": [
    {
     "name": "stdout",
     "output_type": "stream",
     "text": [
      "--- Data loading complete! ---\n",
      "Shape of X_train_scaled: (4410, 223, 20)\n",
      "Shape of y_train_categorical: (4410, 8)\n",
      "Shape of X_val_scaled: (491, 223, 20)\n",
      "Shape of y_val_categorical: (491, 8)\n",
      "\n",
      "Label Encoder classes (to interpret predictions):\n",
      "['angry' 'calm' 'disgust' 'fear' 'happy' 'neutral' 'sad' 'surprise']\n"
     ]
    },
    {
     "name": "stderr",
     "output_type": "stream",
     "text": [
      "/usr/local/lib/python3.11/dist-packages/sklearn/base.py:318: UserWarning: Trying to unpickle estimator StandardScaler from version 1.6.1 when using version 1.2.2. This might lead to breaking code or invalid results. Use at your own risk. For more info please refer to:\n",
      "https://scikit-learn.org/stable/model_persistence.html#security-maintainability-limitations\n",
      "  warnings.warn(\n",
      "/usr/local/lib/python3.11/dist-packages/sklearn/base.py:318: UserWarning: Trying to unpickle estimator LabelEncoder from version 1.6.1 when using version 1.2.2. This might lead to breaking code or invalid results. Use at your own risk. For more info please refer to:\n",
      "https://scikit-learn.org/stable/model_persistence.html#security-maintainability-limitations\n",
      "  warnings.warn(\n"
     ]
    }
   ],
   "source": [
    "import joblib\n",
    "# --- This code goes at the start of your Kaggle Notebook ---\n",
    "# --- 1. Define the path to your uploaded data ---\n",
    "# The path is usually /kaggle/input/your-dataset-name\n",
    "KAGGLE_INPUT_PATH = '/kaggle/input/audio-dataset-new' #<-- CHANGE THIS to your dataset name on Kaggle\n",
    "\n",
    "# --- 2. Load the NumPy arrays ---\n",
    "data_path = os.path.join(KAGGLE_INPUT_PATH, 'audio_data_processed.npz')\n",
    "data = np.load(data_path)\n",
    "\n",
    "# Extract each array from the loaded .npz file\n",
    "X_train_scaled = data['X_train']\n",
    "X_val_scaled = data['X_val']\n",
    "X_test_scaled = data['X_test']\n",
    "y_train_categorical = data['y_train']\n",
    "y_val_categorical = data['y_val']\n",
    "y_test_categorical = data['y_test']\n",
    "\n",
    "# --- 3. Load the preprocessing objects ---\n",
    "scaler_path = os.path.join(KAGGLE_INPUT_PATH, 'scaler.joblib')\n",
    "scaler = joblib.load(scaler_path)\n",
    "\n",
    "label_encoder_path = os.path.join(KAGGLE_INPUT_PATH, 'label_encoder.joblib')\n",
    "le = joblib.load(label_encoder_path)\n",
    "\n",
    "\n",
    "# --- 4. Verify that everything loaded correctly ---\n",
    "print(\"--- Data loading complete! ---\")\n",
    "print(f\"Shape of X_train_scaled: {X_train_scaled.shape}\")\n",
    "print(f\"Shape of y_train_categorical: {y_train_categorical.shape}\")\n",
    "print(f\"Shape of X_val_scaled: {X_val_scaled.shape}\")\n",
    "print(f\"Shape of y_val_categorical: {y_val_categorical.shape}\")\n",
    "print(\"\\nLabel Encoder classes (to interpret predictions):\")\n",
    "print(le.classes_)"
   ]
  },
  {
   "cell_type": "code",
   "execution_count": 3,
   "metadata": {
    "execution": {
     "iopub.execute_input": "2025-06-24T08:54:06.040027Z",
     "iopub.status.busy": "2025-06-24T08:54:06.039585Z",
     "iopub.status.idle": "2025-06-24T08:54:06.043628Z",
     "shell.execute_reply": "2025-06-24T08:54:06.042907Z",
     "shell.execute_reply.started": "2025-06-24T08:54:06.040002Z"
    },
    "trusted": true
   },
   "outputs": [],
   "source": [
    "NUM_CLASSES = len(le.classes_)"
   ]
  },
  {
   "cell_type": "code",
   "execution_count": 4,
   "metadata": {
    "execution": {
     "iopub.execute_input": "2025-06-24T08:54:06.288177Z",
     "iopub.status.busy": "2025-06-24T08:54:06.287939Z",
     "iopub.status.idle": "2025-06-24T08:54:06.349456Z",
     "shell.execute_reply": "2025-06-24T08:54:06.348840Z",
     "shell.execute_reply.started": "2025-06-24T08:54:06.288159Z"
    },
    "trusted": true
   },
   "outputs": [
    {
     "name": "stdout",
     "output_type": "stream",
     "text": [
      "Using device: cuda\n"
     ]
    }
   ],
   "source": [
    "# --- 1. Setup and Data Loading ---\n",
    "# Check for GPU and set device\n",
    "device = torch.device(\"cuda\" if torch.cuda.is_available() else \"cpu\")\n",
    "print(f\"Using device: {device}\")\n"
   ]
  },
  {
   "cell_type": "code",
   "execution_count": 5,
   "metadata": {
    "execution": {
     "iopub.execute_input": "2025-06-24T08:54:09.332219Z",
     "iopub.status.busy": "2025-06-24T08:54:09.331741Z",
     "iopub.status.idle": "2025-06-24T08:54:09.336041Z",
     "shell.execute_reply": "2025-06-24T08:54:09.335412Z",
     "shell.execute_reply.started": "2025-06-24T08:54:09.332192Z"
    },
    "trusted": true
   },
   "outputs": [],
   "source": [
    "# --- IMPORTANT: Convert labels for PyTorch ---\n",
    "# PyTorch's CrossEntropyLoss expects class indices (0, 1, 2, ...), not one-hot vectors.\n",
    "y_train = np.argmax(y_train_categorical, axis=1)\n",
    "y_val = np.argmax(y_val_categorical, axis=1)\n",
    "# y_test = np.argmax(y_test_categorical, axis=1)"
   ]
  },
  {
   "cell_type": "code",
   "execution_count": 6,
   "metadata": {
    "execution": {
     "iopub.execute_input": "2025-06-24T08:54:09.522474Z",
     "iopub.status.busy": "2025-06-24T08:54:09.521989Z",
     "iopub.status.idle": "2025-06-24T08:54:09.526675Z",
     "shell.execute_reply": "2025-06-24T08:54:09.525904Z",
     "shell.execute_reply.started": "2025-06-24T08:54:09.522455Z"
    },
    "trusted": true
   },
   "outputs": [],
   "source": [
    "# Convert NumPy arrays to PyTorch Tensors\n",
    "X_train_tensor = torch.from_numpy(X_train_scaled).float()\n",
    "y_train_tensor = torch.from_numpy(y_train).long()\n",
    "\n",
    "X_val_tensor = torch.from_numpy(X_val_scaled).float()\n",
    "y_val_tensor = torch.from_numpy(y_val).long()"
   ]
  },
  {
   "cell_type": "code",
   "execution_count": 7,
   "metadata": {
    "execution": {
     "iopub.execute_input": "2025-06-24T08:54:12.605045Z",
     "iopub.status.busy": "2025-06-24T08:54:12.604772Z",
     "iopub.status.idle": "2025-06-24T08:54:12.609609Z",
     "shell.execute_reply": "2025-06-24T08:54:12.608936Z",
     "shell.execute_reply.started": "2025-06-24T08:54:12.605024Z"
    },
    "trusted": true
   },
   "outputs": [],
   "source": [
    "# Create TensorDatasets and DataLoaders\n",
    "BATCH_SIZE = 32\n",
    "\n",
    "train_dataset = TensorDataset(X_train_tensor, y_train_tensor)\n",
    "train_loader = DataLoader(train_dataset, batch_size=BATCH_SIZE, shuffle=True)\n",
    "\n",
    "val_dataset = TensorDataset(X_val_tensor, y_val_tensor)\n",
    "val_loader = DataLoader(val_dataset, batch_size=BATCH_SIZE, shuffle=False)\n"
   ]
  },
  {
   "cell_type": "code",
   "execution_count": 8,
   "metadata": {
    "execution": {
     "iopub.execute_input": "2025-06-24T08:54:12.839713Z",
     "iopub.status.busy": "2025-06-24T08:54:12.839497Z",
     "iopub.status.idle": "2025-06-24T08:54:12.846994Z",
     "shell.execute_reply": "2025-06-24T08:54:12.846418Z",
     "shell.execute_reply.started": "2025-06-24T08:54:12.839695Z"
    },
    "trusted": true
   },
   "outputs": [],
   "source": [
    "\n",
    "class CNN_LSTM_Model(nn.Module):\n",
    "    def __init__(self, num_features, num_classes, lstm_hidden_size=128, lstm_layers=2):\n",
    "        super(CNN_LSTM_Model, self).__init__()\n",
    "        \n",
    "        # CNN part\n",
    "        # Input shape: (batch_size, num_features, sequence_length)\n",
    "        # We need to permute the input from (batch, seq_len, features) to fit this.\n",
    "        self.cnn = nn.Sequential(\n",
    "            nn.Conv1d(in_channels=num_features, out_channels=64, kernel_size=3, padding=1),\n",
    "            nn.BatchNorm1d(64),\n",
    "            nn.ReLU(),\n",
    "            nn.MaxPool1d(kernel_size=2),\n",
    "            \n",
    "            nn.Conv1d(in_channels=64, out_channels=128, kernel_size=3, padding=1),\n",
    "            nn.BatchNorm1d(128),\n",
    "            nn.ReLU(),\n",
    "            nn.MaxPool1d(kernel_size=2)\n",
    "        )\n",
    "        # The output of the CNN part will have channels=128. This becomes the input_size for the LSTM.\n",
    "        \n",
    "        # LSTM part\n",
    "        # Input shape: (batch_size, sequence_length, input_size)\n",
    "        self.lstm = nn.LSTM(\n",
    "            input_size=128, \n",
    "            hidden_size=lstm_hidden_size,\n",
    "            num_layers=lstm_layers,\n",
    "            batch_first=True, # This is crucial!\n",
    "            dropout=0.5, # Dropout between LSTM layers\n",
    "            bidirectional=True # Bidirectional often improves performance\n",
    "        )\n",
    "        \n",
    "        # Classifier Head\n",
    "        self.dropout = nn.Dropout(0.5)\n",
    "        # The input to the linear layer is lstm_hidden_size * 2 because it's bidirectional\n",
    "        self.fc = nn.Linear(lstm_hidden_size * 2, num_classes)\n",
    "\n",
    "    def forward(self, x):\n",
    "        # Input x has shape: (batch_size, sequence_length, num_features)\n",
    "        \n",
    "        # 1. Prepare for CNN: (batch_size, num_features, sequence_length)\n",
    "        x = x.permute(0, 2, 1)\n",
    "        \n",
    "        # 2. Pass through CNN\n",
    "        x_cnn = self.cnn(x)\n",
    "        \n",
    "        # 3. Prepare for LSTM: (batch_size, sequence_length, features)\n",
    "        x_cnn = x_cnn.permute(0, 2, 1)\n",
    "        \n",
    "        # 4. Pass through LSTM\n",
    "        # We only need the output of the LSTM, not the hidden states (h_n, c_n)\n",
    "        lstm_out, _ = self.lstm(x_cnn)\n",
    "        \n",
    "        # 5. Get the last hidden state for classification\n",
    "        # We use the output of the last time step\n",
    "        last_hidden_state = lstm_out[:, -1, :]\n",
    "        \n",
    "        # 6. Pass through the classifier\n",
    "        x = self.dropout(last_hidden_state)\n",
    "        logits = self.fc(x)\n",
    "        \n",
    "        return logits"
   ]
  },
  {
   "cell_type": "code",
   "execution_count": 9,
   "metadata": {
    "execution": {
     "iopub.execute_input": "2025-06-24T08:54:14.800571Z",
     "iopub.status.busy": "2025-06-24T08:54:14.799994Z",
     "iopub.status.idle": "2025-06-24T08:54:14.806703Z",
     "shell.execute_reply": "2025-06-24T08:54:14.805883Z",
     "shell.execute_reply.started": "2025-06-24T08:54:14.800544Z"
    },
    "trusted": true
   },
   "outputs": [],
   "source": [
    "class EarlyStopping:\n",
    "    def __init__(self, patience=5, verbose=False, delta=0, path='checkpoint.pt'):\n",
    "        self.patience = patience\n",
    "        self.verbose = verbose\n",
    "        self.counter = 0\n",
    "        self.best_score = None\n",
    "        self.early_stop = False\n",
    "        self.val_loss_min = np.Inf\n",
    "        self.delta = delta\n",
    "        self.path = path\n",
    "\n",
    "    def __call__(self, val_loss, model):\n",
    "        score = -val_loss\n",
    "        if self.best_score is None:\n",
    "            self.best_score = score\n",
    "            self.save_checkpoint(val_loss, model)\n",
    "        elif score < self.best_score + self.delta:\n",
    "            self.counter += 1\n",
    "            if self.verbose:\n",
    "                print(f'EarlyStopping counter: {self.counter} out of {self.patience}')\n",
    "            if self.counter >= self.patience:\n",
    "                self.early_stop = True\n",
    "        else:\n",
    "            self.best_score = score\n",
    "            self.save_checkpoint(val_loss, model)\n",
    "            self.counter = 0\n",
    "\n",
    "    def save_checkpoint(self, val_loss, model):\n",
    "        if self.verbose:\n",
    "            print(f'Validation loss decreased ({self.val_loss_min:.6f} --> {val_loss:.6f}).  Saving model ...')\n",
    "        torch.save(model.state_dict(), self.path)\n",
    "        self.val_loss_min = val_loss"
   ]
  },
  {
   "cell_type": "code",
   "execution_count": 10,
   "metadata": {
    "execution": {
     "iopub.execute_input": "2025-06-24T08:54:15.022349Z",
     "iopub.status.busy": "2025-06-24T08:54:15.021816Z",
     "iopub.status.idle": "2025-06-24T08:54:15.026470Z",
     "shell.execute_reply": "2025-06-24T08:54:15.025771Z",
     "shell.execute_reply.started": "2025-06-24T08:54:15.022324Z"
    },
    "trusted": true
   },
   "outputs": [],
   "source": [
    "# --- 4. Training and Validation Loop ---\n",
    "# Hyperparameters\n",
    "EPOCHS = 50\n",
    "LEARNING_RATE = 0.001\n",
    "NUM_FEATURES = X_train_scaled.shape[2] # Should be 20 for MFCCs\n"
   ]
  },
  {
   "cell_type": "code",
   "execution_count": 11,
   "metadata": {
    "execution": {
     "iopub.execute_input": "2025-06-24T08:54:16.821510Z",
     "iopub.status.busy": "2025-06-24T08:54:16.820796Z",
     "iopub.status.idle": "2025-06-24T08:54:18.011750Z",
     "shell.execute_reply": "2025-06-24T08:54:18.010915Z",
     "shell.execute_reply.started": "2025-06-24T08:54:16.821482Z"
    },
    "trusted": true
   },
   "outputs": [],
   "source": [
    "# Initialize model, loss, optimizer, and early stopper\n",
    "model = CNN_LSTM_Model(num_features=NUM_FEATURES, num_classes=NUM_CLASSES).to(device)\n",
    "criterion = nn.CrossEntropyLoss()\n",
    "optimizer = optim.Adam(model.parameters(), lr=LEARNING_RATE)\n",
    "early_stopper = EarlyStopping(patience=5, verbose=True)\n"
   ]
  },
  {
   "cell_type": "code",
   "execution_count": 12,
   "metadata": {
    "execution": {
     "iopub.execute_input": "2025-06-24T08:54:18.013436Z",
     "iopub.status.busy": "2025-06-24T08:54:18.013038Z",
     "iopub.status.idle": "2025-06-24T08:54:42.963800Z",
     "shell.execute_reply": "2025-06-24T08:54:42.963000Z",
     "shell.execute_reply.started": "2025-06-24T08:54:18.013415Z"
    },
    "trusted": true
   },
   "outputs": [
    {
     "name": "stdout",
     "output_type": "stream",
     "text": [
      "\n",
      "--- Starting Training ---\n",
      "Epoch: 1/50 | Train Loss: 1.9662 | Train Acc: 0.2007 | Val Loss: 1.8950 | Val Acc: 0.2281\n",
      "Validation loss decreased (inf --> 1.895018).  Saving model ...\n",
      "Epoch: 2/50 | Train Loss: 1.9108 | Train Acc: 0.2134 | Val Loss: 1.8383 | Val Acc: 0.2688\n",
      "Validation loss decreased (1.895018 --> 1.838329).  Saving model ...\n",
      "Epoch: 3/50 | Train Loss: 1.7762 | Train Acc: 0.2850 | Val Loss: 1.8242 | Val Acc: 0.2709\n",
      "Validation loss decreased (1.838329 --> 1.824200).  Saving model ...\n",
      "Epoch: 4/50 | Train Loss: 1.6588 | Train Acc: 0.3252 | Val Loss: 1.5361 | Val Acc: 0.3992\n",
      "Validation loss decreased (1.824200 --> 1.536125).  Saving model ...\n",
      "Epoch: 5/50 | Train Loss: 1.5682 | Train Acc: 0.3580 | Val Loss: 1.4973 | Val Acc: 0.3992\n",
      "Validation loss decreased (1.536125 --> 1.497344).  Saving model ...\n",
      "Epoch: 6/50 | Train Loss: 1.5042 | Train Acc: 0.3891 | Val Loss: 1.4591 | Val Acc: 0.4073\n",
      "Validation loss decreased (1.497344 --> 1.459089).  Saving model ...\n",
      "Epoch: 7/50 | Train Loss: 1.4540 | Train Acc: 0.4009 | Val Loss: 1.4872 | Val Acc: 0.3910\n",
      "EarlyStopping counter: 1 out of 5\n",
      "Epoch: 8/50 | Train Loss: 1.4210 | Train Acc: 0.4354 | Val Loss: 1.4792 | Val Acc: 0.4358\n",
      "EarlyStopping counter: 2 out of 5\n",
      "Epoch: 9/50 | Train Loss: 1.3590 | Train Acc: 0.4517 | Val Loss: 1.3005 | Val Acc: 0.4888\n",
      "Validation loss decreased (1.459089 --> 1.300527).  Saving model ...\n",
      "Epoch: 10/50 | Train Loss: 1.2964 | Train Acc: 0.4896 | Val Loss: 1.2759 | Val Acc: 0.4969\n",
      "Validation loss decreased (1.300527 --> 1.275876).  Saving model ...\n",
      "Epoch: 11/50 | Train Loss: 1.2772 | Train Acc: 0.4946 | Val Loss: 1.2930 | Val Acc: 0.4868\n",
      "EarlyStopping counter: 1 out of 5\n",
      "Epoch: 12/50 | Train Loss: 1.2258 | Train Acc: 0.5143 | Val Loss: 1.2977 | Val Acc: 0.4949\n",
      "EarlyStopping counter: 2 out of 5\n",
      "Epoch: 13/50 | Train Loss: 1.1706 | Train Acc: 0.5379 | Val Loss: 1.2505 | Val Acc: 0.5682\n",
      "Validation loss decreased (1.275876 --> 1.250545).  Saving model ...\n",
      "Epoch: 14/50 | Train Loss: 1.1180 | Train Acc: 0.5662 | Val Loss: 1.2313 | Val Acc: 0.5336\n",
      "Validation loss decreased (1.250545 --> 1.231297).  Saving model ...\n",
      "Epoch: 15/50 | Train Loss: 1.0734 | Train Acc: 0.5909 | Val Loss: 1.1744 | Val Acc: 0.5642\n",
      "Validation loss decreased (1.231297 --> 1.174396).  Saving model ...\n",
      "Epoch: 16/50 | Train Loss: 0.9890 | Train Acc: 0.6236 | Val Loss: 1.1760 | Val Acc: 0.5743\n",
      "EarlyStopping counter: 1 out of 5\n",
      "Epoch: 17/50 | Train Loss: 0.9510 | Train Acc: 0.6422 | Val Loss: 1.1059 | Val Acc: 0.6151\n",
      "Validation loss decreased (1.174396 --> 1.105887).  Saving model ...\n",
      "Epoch: 18/50 | Train Loss: 0.9076 | Train Acc: 0.6601 | Val Loss: 1.2996 | Val Acc: 0.5743\n",
      "EarlyStopping counter: 1 out of 5\n",
      "Epoch: 19/50 | Train Loss: 0.8844 | Train Acc: 0.6787 | Val Loss: 1.0832 | Val Acc: 0.6110\n",
      "Validation loss decreased (1.105887 --> 1.083239).  Saving model ...\n",
      "Epoch: 20/50 | Train Loss: 0.7969 | Train Acc: 0.7077 | Val Loss: 1.1401 | Val Acc: 0.6354\n",
      "EarlyStopping counter: 1 out of 5\n",
      "Epoch: 21/50 | Train Loss: 0.7411 | Train Acc: 0.7283 | Val Loss: 1.0613 | Val Acc: 0.6232\n",
      "Validation loss decreased (1.083239 --> 1.061323).  Saving model ...\n",
      "Epoch: 22/50 | Train Loss: 0.7279 | Train Acc: 0.7410 | Val Loss: 1.1616 | Val Acc: 0.6171\n",
      "EarlyStopping counter: 1 out of 5\n",
      "Epoch: 23/50 | Train Loss: 0.6738 | Train Acc: 0.7594 | Val Loss: 1.1412 | Val Acc: 0.6375\n",
      "EarlyStopping counter: 2 out of 5\n",
      "Epoch: 24/50 | Train Loss: 0.6327 | Train Acc: 0.7755 | Val Loss: 0.9392 | Val Acc: 0.6986\n",
      "Validation loss decreased (1.061323 --> 0.939182).  Saving model ...\n",
      "Epoch: 25/50 | Train Loss: 0.6029 | Train Acc: 0.7828 | Val Loss: 0.9977 | Val Acc: 0.6721\n",
      "EarlyStopping counter: 1 out of 5\n",
      "Epoch: 26/50 | Train Loss: 0.5559 | Train Acc: 0.7991 | Val Loss: 1.0056 | Val Acc: 0.6782\n",
      "EarlyStopping counter: 2 out of 5\n",
      "Epoch: 27/50 | Train Loss: 0.5139 | Train Acc: 0.8156 | Val Loss: 1.0779 | Val Acc: 0.6823\n",
      "EarlyStopping counter: 3 out of 5\n",
      "Epoch: 28/50 | Train Loss: 0.4999 | Train Acc: 0.8202 | Val Loss: 1.0503 | Val Acc: 0.6904\n",
      "EarlyStopping counter: 4 out of 5\n",
      "Epoch: 29/50 | Train Loss: 0.4450 | Train Acc: 0.8463 | Val Loss: 1.3807 | Val Acc: 0.6456\n",
      "EarlyStopping counter: 5 out of 5\n",
      "Early stopping triggered\n"
     ]
    }
   ],
   "source": [
    "\n",
    "print(\"\\n--- Starting Training ---\")\n",
    "for epoch in range(1, EPOCHS + 1):\n",
    "    # --- Training Phase ---\n",
    "    model.train()\n",
    "    running_loss = 0.0\n",
    "    correct_train = 0\n",
    "    total_train = 0\n",
    "    \n",
    "    for inputs, labels in train_loader:\n",
    "        inputs, labels = inputs.to(device), labels.to(device)\n",
    "        \n",
    "        optimizer.zero_grad()\n",
    "        \n",
    "        outputs = model(inputs)\n",
    "        loss = criterion(outputs, labels)\n",
    "        \n",
    "        loss.backward()\n",
    "        optimizer.step()\n",
    "        \n",
    "        running_loss += loss.item() * inputs.size(0)\n",
    "        \n",
    "        _, predicted = torch.max(outputs.data, 1)\n",
    "        total_train += labels.size(0)\n",
    "        correct_train += (predicted == labels).sum().item()\n",
    "\n",
    "    train_loss = running_loss / len(train_loader.dataset)\n",
    "    train_acc = correct_train / total_train\n",
    "\n",
    "    # --- Validation Phase ---\n",
    "    model.eval()\n",
    "    val_loss = 0.0\n",
    "    correct_val = 0\n",
    "    total_val = 0\n",
    "    \n",
    "    with torch.no_grad():\n",
    "        for inputs, labels in val_loader:\n",
    "            inputs, labels = inputs.to(device), labels.to(device)\n",
    "            \n",
    "            outputs = model(inputs)\n",
    "            loss = criterion(outputs, labels)\n",
    "            \n",
    "            val_loss += loss.item() * inputs.size(0)\n",
    "            \n",
    "            _, predicted = torch.max(outputs.data, 1)\n",
    "            total_val += labels.size(0)\n",
    "            correct_val += (predicted == labels).sum().item()\n",
    "\n",
    "    avg_val_loss = val_loss / len(val_loader.dataset)\n",
    "    val_acc = correct_val / total_val\n",
    "    \n",
    "    print(f\"Epoch: {epoch}/{EPOCHS} | \"\n",
    "          f\"Train Loss: {train_loss:.4f} | Train Acc: {train_acc:.4f} | \"\n",
    "          f\"Val Loss: {avg_val_loss:.4f} | Val Acc: {val_acc:.4f}\")\n",
    "    \n",
    "    # Early stopping call\n",
    "    early_stopper(avg_val_loss, model)\n",
    "    if early_stopper.early_stop:\n",
    "        print(\"Early stopping triggered\")\n",
    "        break"
   ]
  },
  {
   "cell_type": "code",
   "execution_count": 13,
   "metadata": {
    "execution": {
     "iopub.execute_input": "2025-06-24T08:55:12.569197Z",
     "iopub.status.busy": "2025-06-24T08:55:12.568918Z",
     "iopub.status.idle": "2025-06-24T08:55:12.586629Z",
     "shell.execute_reply": "2025-06-24T08:55:12.585698Z",
     "shell.execute_reply.started": "2025-06-24T08:55:12.569178Z"
    },
    "trusted": true
   },
   "outputs": [
    {
     "name": "stdout",
     "output_type": "stream",
     "text": [
      "\n",
      "--- Training Finished ---\n",
      "Best model weights loaded for final evaluation.\n"
     ]
    }
   ],
   "source": [
    "# --- Post-Training ---\n",
    "print(\"\\n--- Training Finished ---\")\n",
    "# Load the best model weights found during training\n",
    "model.load_state_dict(torch.load('checkpoint.pt'))\n",
    "print(\"Best model weights loaded for final evaluation.\")"
   ]
  },
  {
   "cell_type": "code",
   "execution_count": 14,
   "metadata": {
    "execution": {
     "iopub.execute_input": "2025-06-24T08:55:12.756238Z",
     "iopub.status.busy": "2025-06-24T08:55:12.755943Z",
     "iopub.status.idle": "2025-06-24T08:55:12.871092Z",
     "shell.execute_reply": "2025-06-24T08:55:12.870304Z",
     "shell.execute_reply.started": "2025-06-24T08:55:12.756216Z"
    },
    "trusted": true
   },
   "outputs": [],
   "source": [
    "from sklearn.metrics import classification_report, confusion_matrix\n",
    "import seaborn as sns\n",
    "import matplotlib.pyplot as plt"
   ]
  },
  {
   "cell_type": "code",
   "execution_count": 15,
   "metadata": {
    "execution": {
     "iopub.execute_input": "2025-06-24T08:55:13.506047Z",
     "iopub.status.busy": "2025-06-24T08:55:13.505502Z",
     "iopub.status.idle": "2025-06-24T08:55:13.911317Z",
     "shell.execute_reply": "2025-06-24T08:55:13.910699Z",
     "shell.execute_reply.started": "2025-06-24T08:55:13.506026Z"
    },
    "trusted": true
   },
   "outputs": [
    {
     "name": "stdout",
     "output_type": "stream",
     "text": [
      "\n",
      "--- Generating Classification Report for Validation Set ---\n",
      "\n",
      "Classification Report:\n",
      "              precision    recall  f1-score   support\n",
      "\n",
      "       angry       0.82      0.86      0.84        76\n",
      "        calm       0.74      0.81      0.78        75\n",
      "     disgust       0.65      0.53      0.58        38\n",
      "        fear       0.63      0.60      0.62        75\n",
      "       happy       0.69      0.67      0.68        76\n",
      "     neutral       0.63      0.58      0.60        38\n",
      "         sad       0.61      0.68      0.65        75\n",
      "    surprise       0.78      0.74      0.76        38\n",
      "\n",
      "    accuracy                           0.70       491\n",
      "   macro avg       0.69      0.68      0.69       491\n",
      "weighted avg       0.70      0.70      0.70       491\n",
      "\n",
      "\n",
      "Confusion Matrix:\n"
     ]
    },
    {
     "data": {
      "image/png": "[encoded data removed]",
      "text/plain": [
       "<Figure size 1000x800 with 2 Axes>"
      ]
     },
     "metadata": {},
     "output_type": "display_data"
    }
   ],
   "source": [
    "# --- 5. Evaluate the Final Model on the Validation Set ---\n",
    "print(\"\\n--- Generating Classification Report for Validation Set ---\")\n",
    "\n",
    "# Put the model in evaluation mode\n",
    "model.eval()\n",
    "\n",
    "# Store predictions and true labels\n",
    "all_preds = []\n",
    "all_labels = []\n",
    "\n",
    "# No need to track gradients for evaluation\n",
    "with torch.no_grad():\n",
    "    for inputs, labels in val_loader:\n",
    "        inputs, labels = inputs.to(device), labels.to(device)\n",
    "        \n",
    "        outputs = model(inputs)\n",
    "        \n",
    "        # Get the predicted class (the one with the highest probability)\n",
    "        _, predicted = torch.max(outputs.data, 1)\n",
    "        \n",
    "        # Append batch predictions and labels to the lists\n",
    "        all_preds.extend(predicted.cpu().numpy())\n",
    "        all_labels.extend(labels.cpu().numpy())\n",
    "\n",
    "# Get the class names from the label encoder\n",
    "class_names = le.classes_\n",
    "\n",
    "# Print the classification report\n",
    "print(\"\\nClassification Report:\")\n",
    "print(classification_report(all_labels, all_preds, target_names=class_names))\n",
    "\n",
    "\n",
    "# --- (Optional but Recommended) Visualize the Confusion Matrix ---\n",
    "print(\"\\nConfusion Matrix:\")\n",
    "cm = confusion_matrix(all_labels, all_preds)\n",
    "cm_df = pd.DataFrame(cm, index=class_names, columns=class_names)\n",
    "\n",
    "plt.figure(figsize=(10, 8))\n",
    "sns.heatmap(cm_df, annot=True, fmt='d', cmap='Blues')\n",
    "plt.title('Confusion Matrix for Validation Set')\n",
    "plt.ylabel('Actual Label')\n",
    "plt.xlabel('Predicted Label')\n",
    "plt.show()"
   ]
  },
  {
   "cell_type": "code",
   "execution_count": null,
   "metadata": {
    "trusted": true
   },
   "outputs": [],
   "source": []
  }
 ],
 "metadata": {
  "kaggle": {
   "accelerator": "nvidiaTeslaT4",
   "dataSources": [
    {
     "datasetId": 7729791,
     "sourceId": 12266471,
     "sourceType": "datasetVersion"
    }
   ],
   "dockerImageVersionId": 31041,
   "isGpuEnabled": true,
   "isInternetEnabled": true,
   "language": "python",
   "sourceType": "notebook"
  },
  "kernelspec": {
   "display_name": "Python 3",
   "language": "python",
   "name": "python3"
  },
  "language_info": {
   "codemirror_mode": {
    "name": "ipython",
    "version": 3
   },
   "file_extension": ".py",
   "mimetype": "text/x-python",
   "name": "python",
   "nbconvert_exporter": "python",
   "pygments_lexer": "ipython3",
   "version": "3.11.11"
  }
 },
 "nbformat": 4,
 "nbformat_minor": 4
}

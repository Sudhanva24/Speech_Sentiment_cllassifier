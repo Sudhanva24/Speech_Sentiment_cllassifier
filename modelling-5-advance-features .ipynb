{
 "cells": [
  {
   "cell_type": "code",
   "execution_count": 49,
   "metadata": {
    "_cell_guid": "b1076dfc-b9ad-4769-8c92-a6c4dae69d19",
    "_uuid": "8f2839f25d086af736a60e9eeb907d3b93b6e0e5",
    "execution": {
     "iopub.execute_input": "2025-06-24T19:31:03.550920Z",
     "iopub.status.busy": "2025-06-24T19:31:03.550623Z",
     "iopub.status.idle": "2025-06-24T19:31:03.559552Z",
     "shell.execute_reply": "2025-06-24T19:31:03.558666Z",
     "shell.execute_reply.started": "2025-06-24T19:31:03.550899Z"
    },
    "trusted": true
   },
   "outputs": [
    {
     "name": "stdout",
     "output_type": "stream",
     "text": [
      "/kaggle/input/audio-dataset-advanced/scaler_advanced.joblib\n",
      "/kaggle/input/audio-dataset-advanced/audio_data_advanced.npz\n",
      "/kaggle/input/audio-dataset-advanced/label_encoder_advanced.joblib\n",
      "/kaggle/input/audio-spectrograms/scaler_spectrogram.joblib\n",
      "/kaggle/input/audio-spectrograms/audio_data_spectrogram.npz\n",
      "/kaggle/input/audio-spectrograms/label_encoder_spectrogram.joblib\n"
     ]
    }
   ],
   "source": [
    "# This Python 3 environment comes with many helpful analytics libraries installed\n",
    "# It is defined by the kaggle/python Docker image: https://github.com/kaggle/docker-python\n",
    "# For example, here's several helpful packages to load\n",
    "import torch\n",
    "import torch.nn as nn\n",
    "import torch.optim as optim\n",
    "from torch.utils.data import DataLoader, TensorDataset\n",
    "import numpy as np # linear algebra\n",
    "import pandas as pd # data processing, CSV file I/O (e.g. pd.read_csv)\n",
    "\n",
    "# Input data files are available in the read-only \"../input/\" directory\n",
    "# For example, running this (by clicking run or pressing Shift+Enter) will list all files under the input directory\n",
    "\n",
    "import os\n",
    "for dirname, _, filenames in os.walk('/kaggle/input'):\n",
    "    for filename in filenames:\n",
    "        print(os.path.join(dirname, filename))\n",
    "\n",
    "# You can write up to 20GB to the current directory (/kaggle/working/) that gets preserved as output when you create a version using \"Save & Run All\" \n",
    "# You can also write temporary files to /kaggle/temp/, but they won't be saved outside of the current session"
   ]
  },
  {
   "cell_type": "code",
   "execution_count": 50,
   "metadata": {
    "execution": {
     "iopub.execute_input": "2025-06-24T19:31:03.561375Z",
     "iopub.status.busy": "2025-06-24T19:31:03.560968Z",
     "iopub.status.idle": "2025-06-24T19:31:03.570548Z",
     "shell.execute_reply": "2025-06-24T19:31:03.569989Z",
     "shell.execute_reply.started": "2025-06-24T19:31:03.561351Z"
    },
    "trusted": true
   },
   "outputs": [],
   "source": [
    "from sklearn.utils.class_weight import compute_class_weight"
   ]
  },
  {
   "cell_type": "code",
   "execution_count": 51,
   "metadata": {
    "execution": {
     "iopub.execute_input": "2025-06-24T19:31:03.571355Z",
     "iopub.status.busy": "2025-06-24T19:31:03.571140Z",
     "iopub.status.idle": "2025-06-24T19:31:05.155878Z",
     "shell.execute_reply": "2025-06-24T19:31:05.155025Z",
     "shell.execute_reply.started": "2025-06-24T19:31:03.571341Z"
    },
    "trusted": true
   },
   "outputs": [
    {
     "name": "stdout",
     "output_type": "stream",
     "text": [
      "--- Data loading complete! ---\n",
      "Shape of X_train_scaled: (4410, 223, 65)\n",
      "Shape of y_train_categorical: (4410,)\n",
      "Shape of X_val_scaled: (491, 223, 65)\n",
      "Shape of y_val_categorical: (491,)\n",
      "\n",
      "Label Encoder classes (to interpret predictions):\n",
      "['angry' 'calm' 'disgust' 'fear' 'happy' 'neutral' 'sad' 'surprise']\n"
     ]
    },
    {
     "name": "stderr",
     "output_type": "stream",
     "text": [
      "/usr/local/lib/python3.11/dist-packages/sklearn/base.py:318: UserWarning: Trying to unpickle estimator StandardScaler from version 1.6.1 when using version 1.2.2. This might lead to breaking code or invalid results. Use at your own risk. For more info please refer to:\n",
      "https://scikit-learn.org/stable/model_persistence.html#security-maintainability-limitations\n",
      "  warnings.warn(\n",
      "/usr/local/lib/python3.11/dist-packages/sklearn/base.py:318: UserWarning: Trying to unpickle estimator LabelEncoder from version 1.6.1 when using version 1.2.2. This might lead to breaking code or invalid results. Use at your own risk. For more info please refer to:\n",
      "https://scikit-learn.org/stable/model_persistence.html#security-maintainability-limitations\n",
      "  warnings.warn(\n"
     ]
    }
   ],
   "source": [
    "import joblib\n",
    "# --- This code goes at the start of your Kaggle Notebook ---\n",
    "# --- 1. Define the path to your uploaded data ---\n",
    "# The path is usually /kaggle/input/your-dataset-name\n",
    "KAGGLE_INPUT_PATH = '/kaggle/input/audio-dataset-advanced' #<-- CHANGE THIS to your dataset name on Kaggle\n",
    "\n",
    "# --- 2. Load the NumPy arrays ---\n",
    "data_path = os.path.join(KAGGLE_INPUT_PATH, 'audio_data_advanced.npz')\n",
    "data = np.load(data_path)\n",
    "\n",
    "# Extract each array from the loaded .npz file\n",
    "X_train_scaled = data['X_train']\n",
    "X_val_scaled = data['X_val']\n",
    "X_test_scaled = data['X_test']\n",
    "y_train = data['y_train']\n",
    "y_val = data['y_val']\n",
    "y_test = data['y_test']\n",
    "\n",
    "# --- 3. Load the preprocessing objects ---\n",
    "scaler_path = os.path.join(KAGGLE_INPUT_PATH, 'scaler_advanced.joblib')\n",
    "scaler = joblib.load(scaler_path)\n",
    "\n",
    "label_encoder_path = os.path.join(KAGGLE_INPUT_PATH, 'label_encoder_advanced.joblib')\n",
    "le = joblib.load(label_encoder_path)\n",
    "\n",
    "\n",
    "# --- 4. Verify that everything loaded correctly ---\n",
    "print(\"--- Data loading complete! ---\")\n",
    "print(f\"Shape of X_train_scaled: {X_train_scaled.shape}\")\n",
    "print(f\"Shape of y_train_categorical: {y_train.shape}\")\n",
    "print(f\"Shape of X_val_scaled: {X_val_scaled.shape}\")\n",
    "print(f\"Shape of y_val_categorical: {y_val.shape}\")\n",
    "print(\"\\nLabel Encoder classes (to interpret predictions):\")\n",
    "print(le.classes_)"
   ]
  },
  {
   "cell_type": "code",
   "execution_count": 52,
   "metadata": {
    "execution": {
     "iopub.execute_input": "2025-06-24T19:31:05.156790Z",
     "iopub.status.busy": "2025-06-24T19:31:05.156580Z",
     "iopub.status.idle": "2025-06-24T19:31:05.160337Z",
     "shell.execute_reply": "2025-06-24T19:31:05.159646Z",
     "shell.execute_reply.started": "2025-06-24T19:31:05.156774Z"
    },
    "trusted": true
   },
   "outputs": [],
   "source": [
    "NUM_CLASSES = len(le.classes_)"
   ]
  },
  {
   "cell_type": "code",
   "execution_count": 53,
   "metadata": {
    "execution": {
     "iopub.execute_input": "2025-06-24T19:31:05.162397Z",
     "iopub.status.busy": "2025-06-24T19:31:05.162157Z",
     "iopub.status.idle": "2025-06-24T19:31:05.172302Z",
     "shell.execute_reply": "2025-06-24T19:31:05.171606Z",
     "shell.execute_reply.started": "2025-06-24T19:31:05.162382Z"
    },
    "trusted": true
   },
   "outputs": [
    {
     "data": {
      "text/plain": [
       "8"
      ]
     },
     "execution_count": 53,
     "metadata": {},
     "output_type": "execute_result"
    }
   ],
   "source": [
    "NUM_CLASSES"
   ]
  },
  {
   "cell_type": "code",
   "execution_count": 54,
   "metadata": {
    "execution": {
     "iopub.execute_input": "2025-06-24T19:31:05.173161Z",
     "iopub.status.busy": "2025-06-24T19:31:05.172947Z",
     "iopub.status.idle": "2025-06-24T19:31:05.178641Z",
     "shell.execute_reply": "2025-06-24T19:31:05.178030Z",
     "shell.execute_reply.started": "2025-06-24T19:31:05.173146Z"
    },
    "trusted": true
   },
   "outputs": [],
   "source": [
    "from sklearn.utils.class_weight import compute_class_weight"
   ]
  },
  {
   "cell_type": "code",
   "execution_count": 55,
   "metadata": {
    "execution": {
     "iopub.execute_input": "2025-06-24T19:31:05.179741Z",
     "iopub.status.busy": "2025-06-24T19:31:05.179538Z",
     "iopub.status.idle": "2025-06-24T19:31:05.188492Z",
     "shell.execute_reply": "2025-06-24T19:31:05.187847Z",
     "shell.execute_reply.started": "2025-06-24T19:31:05.179726Z"
    },
    "trusted": true
   },
   "outputs": [
    {
     "name": "stdout",
     "output_type": "stream",
     "text": [
      "Using device: cuda\n"
     ]
    }
   ],
   "source": [
    "# --- 1. Setup and Data Loading ---\n",
    "# Check for GPU and set device\n",
    "device = torch.device(\"cuda\" if torch.cuda.is_available() else \"cpu\")\n",
    "print(f\"Using device: {device}\")\n"
   ]
  },
  {
   "cell_type": "code",
   "execution_count": 56,
   "metadata": {
    "execution": {
     "iopub.execute_input": "2025-06-24T19:31:05.189269Z",
     "iopub.status.busy": "2025-06-24T19:31:05.189040Z",
     "iopub.status.idle": "2025-06-24T19:31:05.277878Z",
     "shell.execute_reply": "2025-06-24T19:31:05.277172Z",
     "shell.execute_reply.started": "2025-06-24T19:31:05.189254Z"
    },
    "trusted": true
   },
   "outputs": [
    {
     "name": "stdout",
     "output_type": "stream",
     "text": [
      "--- Starting: Filtering, Class Weighting, and DataLoader Creation ---\n",
      "Original classes: ['angry', 'calm', 'disgust', 'fear', 'happy', 'neutral', 'sad', 'surprise']\n",
      "Found 'neutral' class at index: 5\n",
      "\n",
      "Original training samples: 4410\n",
      "Filtered training samples: 4074\n",
      "\n",
      "Calculating class weights on the new, filtered training data...\n",
      "New classes for weighting: ['angry', 'calm', 'disgust', 'fear', 'happy', 'sad', 'surprise']\n",
      "New class weights: [0.8622222 0.8584071 1.6869565 0.8584071 0.8622222 0.8584071 1.6869565]\n",
      "\n",
      "--- Sanity Check on Tensor Shapes ---\n",
      "Shape of X_train_tensor: torch.Size([4074, 223, 65])\n",
      "Shape of y_train_tensor: torch.Size([4074])\n",
      "Shapes match, ready for DataLoader creation.\n",
      "\n",
      "--- DataLoaders and Class Weights created successfully with filtered data! ---\n",
      "New number of classes for model: 7\n"
     ]
    }
   ],
   "source": [
    "# --- This cell performs all post-loading data preparation for the ADVANCED dataset ---\n",
    "print(\"--- Starting: Filtering, Class Weighting, and DataLoader Creation ---\")\n",
    "\n",
    "# --- Step 1: Find the index of the 'neutral' class ---\n",
    "class_names = list(le.classes_)\n",
    "try:\n",
    "    neutral_class_index = class_names.index('neutral')\n",
    "    print(f\"Original classes: {class_names}\")\n",
    "    print(f\"Found 'neutral' class at index: {neutral_class_index}\")\n",
    "except ValueError:\n",
    "    print(\"Error: 'neutral' class not found. No filtering will occur.\")\n",
    "    neutral_class_index = -1\n",
    "\n",
    "if neutral_class_index != -1:\n",
    "    \n",
    "    # --- Step 2: Filter the training & validation data ---\n",
    "    # The loaded y_train and y_val are already integer arrays, so we can use them directly.\n",
    "    # NO need for np.argmax.\n",
    "    \n",
    "    # The mask is True for every sample that is NOT the neutral class\n",
    "    train_mask = y_train != neutral_class_index\n",
    "    val_mask = y_val != neutral_class_index\n",
    "    \n",
    "    # Apply the mask to X and y arrays\n",
    "    X_train_filtered = X_train_scaled[train_mask]\n",
    "    y_train_filtered = y_train[train_mask]\n",
    "    \n",
    "    X_val_filtered = X_val_scaled[val_mask]\n",
    "    y_val_filtered = y_val[val_mask]\n",
    "    \n",
    "    print(f\"\\nOriginal training samples: {len(X_train_scaled)}\")\n",
    "    print(f\"Filtered training samples: {len(X_train_filtered)}\")\n",
    "    \n",
    "    # --- Step 3: Remap the labels to be continuous (e.g., [0, 1, 2, 4, 5] -> [0, 1, 2, 3, 4]) ---\n",
    "    # This is crucial for the loss function.\n",
    "    y_train_remapped = np.array([label if label < neutral_class_index else label - 1 for label in y_train_filtered])\n",
    "    y_val_remapped = np.array([label if label < neutral_class_index else label - 1 for label in y_val_filtered])\n",
    "    \n",
    "    # --- Step 4: Update the label encoder for future use (e.g., classification reports) ---\n",
    "    le.classes_ = np.delete(le.classes_, neutral_class_index)\n",
    "    \n",
    "else:\n",
    "    # If neutral was not found, just use the original data without changes\n",
    "    print(\"Proceeding without filtering.\")\n",
    "    X_train_filtered = X_train_scaled\n",
    "    X_val_filtered = X_val_scaled\n",
    "    # The labels are already correct, no remapping needed\n",
    "    y_train_remapped = y_train\n",
    "    y_val_remapped = y_val\n",
    "\n",
    "# At this point, y_train_remapped is the CORRECT array to use for class weights.\n",
    "# Let's rename it to 'y_train_final' for clarity.\n",
    "y_train_final = y_train_remapped\n",
    "\n",
    "# --- Step 5: Calculate new class weights on the FILTERED training data ---\n",
    "print(\"\\nCalculating class weights on the new, filtered training data...\")\n",
    "class_weights = compute_class_weight(\n",
    "    class_weight='balanced',\n",
    "    classes=np.unique(y_train_final),\n",
    "    y=y_train_final  # Using the newly created, filtered, and remapped y_train\n",
    ")\n",
    "weights_tensor = torch.tensor(class_weights, dtype=torch.float).to(device)\n",
    "\n",
    "print(f\"New classes for weighting: {list(le.classes_)}\")\n",
    "print(f\"New class weights: {weights_tensor.cpu().numpy()}\")\n",
    "\n",
    "# --- Step 6: Create PyTorch Tensors from the FINAL filtered and remapped arrays ---\n",
    "X_train_tensor = torch.from_numpy(X_train_filtered).float()\n",
    "X_val_tensor = torch.from_numpy(X_val_filtered).float()\n",
    "\n",
    "y_train_tensor = torch.from_numpy(y_train_remapped).long()\n",
    "y_val_tensor = torch.from_numpy(y_val_remapped).long()\n",
    "\n",
    "# --- Final Sanity Check ---\n",
    "print(\"\\n--- Sanity Check on Tensor Shapes ---\")\n",
    "print(f\"Shape of X_train_tensor: {X_train_tensor.shape}\")\n",
    "print(f\"Shape of y_train_tensor: {y_train_tensor.shape}\")\n",
    "print(\"Shapes match, ready for DataLoader creation.\")\n",
    "\n",
    "# --- Step 7: Create TensorDatasets and DataLoaders ---\n",
    "BATCH_SIZE = 32\n",
    "\n",
    "train_dataset = TensorDataset(X_train_tensor, y_train_tensor)\n",
    "train_loader = DataLoader(train_dataset, batch_size=BATCH_SIZE, shuffle=True)\n",
    "\n",
    "val_dataset = TensorDataset(X_val_tensor, y_val_tensor)\n",
    "val_loader = DataLoader(val_dataset, batch_size=BATCH_SIZE, shuffle=False)\n",
    "\n",
    "print(\"\\n--- DataLoaders and Class Weights created successfully with filtered data! ---\")\n",
    "\n",
    "# You will use this in your model definition\n",
    "NUM_CLASSES_NEW = len(le.classes_)\n",
    "print(f\"New number of classes for model: {NUM_CLASSES_NEW}\")"
   ]
  },
  {
   "cell_type": "code",
   "execution_count": 57,
   "metadata": {
    "execution": {
     "iopub.execute_input": "2025-06-24T19:31:05.278842Z",
     "iopub.status.busy": "2025-06-24T19:31:05.278604Z",
     "iopub.status.idle": "2025-06-24T19:31:05.282409Z",
     "shell.execute_reply": "2025-06-24T19:31:05.281523Z",
     "shell.execute_reply.started": "2025-06-24T19:31:05.278826Z"
    },
    "trusted": true
   },
   "outputs": [],
   "source": [
    "NUM_CLASSES=len(le.classes_)"
   ]
  },
  {
   "cell_type": "code",
   "execution_count": 58,
   "metadata": {
    "execution": {
     "iopub.execute_input": "2025-06-24T19:31:05.283725Z",
     "iopub.status.busy": "2025-06-24T19:31:05.283354Z",
     "iopub.status.idle": "2025-06-24T19:31:05.293809Z",
     "shell.execute_reply": "2025-06-24T19:31:05.293133Z",
     "shell.execute_reply.started": "2025-06-24T19:31:05.283706Z"
    },
    "trusted": true
   },
   "outputs": [
    {
     "data": {
      "text/plain": [
       "7"
      ]
     },
     "execution_count": 58,
     "metadata": {},
     "output_type": "execute_result"
    }
   ],
   "source": [
    "NUM_CLASSES"
   ]
  },
  {
   "cell_type": "code",
   "execution_count": 59,
   "metadata": {
    "execution": {
     "iopub.execute_input": "2025-06-24T19:31:05.294778Z",
     "iopub.status.busy": "2025-06-24T19:31:05.294537Z",
     "iopub.status.idle": "2025-06-24T19:31:05.303977Z",
     "shell.execute_reply": "2025-06-24T19:31:05.303227Z",
     "shell.execute_reply.started": "2025-06-24T19:31:05.294755Z"
    },
    "trusted": true
   },
   "outputs": [],
   "source": [
    "# Create TensorDatasets and DataLoaders\n",
    "BATCH_SIZE = 32\n",
    "\n",
    "train_dataset = TensorDataset(X_train_tensor, y_train_tensor)\n",
    "train_loader = DataLoader(train_dataset, batch_size=BATCH_SIZE, shuffle=True)\n",
    "\n",
    "val_dataset = TensorDataset(X_val_tensor, y_val_tensor)\n",
    "val_loader = DataLoader(val_dataset, batch_size=BATCH_SIZE, shuffle=False)\n"
   ]
  },
  {
   "cell_type": "code",
   "execution_count": 60,
   "metadata": {
    "execution": {
     "iopub.execute_input": "2025-06-24T19:31:05.304900Z",
     "iopub.status.busy": "2025-06-24T19:31:05.304702Z",
     "iopub.status.idle": "2025-06-24T19:31:05.316940Z",
     "shell.execute_reply": "2025-06-24T19:31:05.316440Z",
     "shell.execute_reply.started": "2025-06-24T19:31:05.304877Z"
    },
    "trusted": true
   },
   "outputs": [],
   "source": [
    "import torch.nn.functional as F\n",
    "\n",
    "# --- Luong Attention Module ---\n",
    "class LuongAttention(nn.Module):\n",
    "    def __init__(self):\n",
    "        super(LuongAttention, self).__init__()\n",
    "\n",
    "    def forward(self, lstm_outputs, last_hidden):\n",
    "        alignment_scores = torch.bmm(lstm_outputs, last_hidden.unsqueeze(2)).squeeze(2)\n",
    "        attn_weights = F.softmax(alignment_scores, dim=1)\n",
    "        context_vector = torch.bmm(attn_weights.unsqueeze(1), lstm_outputs).squeeze(1)\n",
    "        return context_vector, attn_weights\n",
    "\n",
    "# --- The Main Model Architecture ---\n",
    "class CNN_LSTM_Attention_Model(nn.Module):\n",
    "    def __init__(self, num_features, num_classes, lstm_hidden_size=128, lstm_layers=2):\n",
    "        super(CNN_LSTM_Attention_Model, self).__init__()\n",
    "        \n",
    "        self.lstm_hidden_size = lstm_hidden_size\n",
    "        \n",
    "        # --- CNN Part to learn local patterns from features ---\n",
    "        self.cnn = nn.Sequential(\n",
    "            nn.Conv1d(in_channels=num_features, out_channels=64, kernel_size=3, padding=1),\n",
    "            nn.BatchNorm1d(64),\n",
    "            nn.ReLU(),\n",
    "            nn.Conv1d(in_channels=64, out_channels=128, kernel_size=3, padding=1),\n",
    "            nn.BatchNorm1d(128),\n",
    "            nn.ReLU(),\n",
    "            nn.MaxPool1d(kernel_size=2) # This slightly reduces sequence length\n",
    "        )\n",
    "        \n",
    "        # --- LSTM Part to learn temporal dependencies ---\n",
    "        # The input size for the LSTM is now 128 (from the CNN's output channels)\n",
    "        self.lstm = nn.LSTM(\n",
    "            input_size=128, \n",
    "            hidden_size=self.lstm_hidden_size,\n",
    "            num_layers=lstm_layers,\n",
    "            batch_first=True,\n",
    "            dropout=0.5,\n",
    "            bidirectional=True\n",
    "        )\n",
    "        \n",
    "        # --- Attention Part ---\n",
    "        self.attention = LuongAttention()\n",
    "        \n",
    "        # --- Classifier Head ---\n",
    "        self.fc = nn.Linear(self.lstm_hidden_size * 4, num_classes) # *4 from concat(hidden, context)\n",
    "        self.dropout = nn.Dropout(0.5)\n",
    "\n",
    "    def forward(self, x):\n",
    "        # x shape: (batch_size, sequence_length, num_features)\n",
    "        \n",
    "        x = x.permute(0, 2, 1) # Prep for CNN: (batch, features, seq_len)\n",
    "        x_cnn = self.cnn(x)\n",
    "        x_cnn = x_cnn.permute(0, 2, 1) # Prep for LSTM: (batch, seq_len, features)\n",
    "        \n",
    "        lstm_outputs, (hidden, cell) = self.lstm(x_cnn)\n",
    "        \n",
    "        last_hidden = torch.cat((hidden[-2,:,:], hidden[-1,:,:]), dim=1)\n",
    "        \n",
    "        context_vector, attn_weights = self.attention(lstm_outputs, last_hidden)\n",
    "        \n",
    "        combined_vector = torch.cat((last_hidden, context_vector), dim=1)\n",
    "        \n",
    "        logits = self.fc(self.dropout(combined_vector))\n",
    "        \n",
    "        return logits"
   ]
  },
  {
   "cell_type": "code",
   "execution_count": 61,
   "metadata": {
    "execution": {
     "iopub.execute_input": "2025-06-24T19:31:05.319435Z",
     "iopub.status.busy": "2025-06-24T19:31:05.319228Z",
     "iopub.status.idle": "2025-06-24T19:31:05.330563Z",
     "shell.execute_reply": "2025-06-24T19:31:05.329934Z",
     "shell.execute_reply.started": "2025-06-24T19:31:05.319411Z"
    },
    "trusted": true
   },
   "outputs": [],
   "source": [
    "class EarlyStopping:\n",
    "    def __init__(self, patience=5, verbose=False, delta=0, path='checkpoint.pt'):\n",
    "        self.patience = patience\n",
    "        self.verbose = verbose\n",
    "        self.counter = 0\n",
    "        self.best_score = None\n",
    "        self.early_stop = False\n",
    "        self.val_loss_min = np.Inf\n",
    "        self.delta = delta\n",
    "        self.path = path\n",
    "\n",
    "    def __call__(self, val_loss, model):\n",
    "        score = -val_loss\n",
    "        if self.best_score is None:\n",
    "            self.best_score = score\n",
    "            self.save_checkpoint(val_loss, model)\n",
    "        elif score < self.best_score + self.delta:\n",
    "            self.counter += 1\n",
    "            if self.verbose:\n",
    "                print(f'EarlyStopping counter: {self.counter} out of {self.patience}')\n",
    "            if self.counter >= self.patience:\n",
    "                self.early_stop = True\n",
    "        else:\n",
    "            self.best_score = score\n",
    "            self.save_checkpoint(val_loss, model)\n",
    "            self.counter = 0\n",
    "\n",
    "    def save_checkpoint(self, val_loss, model):\n",
    "        if self.verbose:\n",
    "            print(f'Validation loss decreased ({self.val_loss_min:.6f} --> {val_loss:.6f}).  Saving model ...')\n",
    "        torch.save(model.state_dict(), self.path)\n",
    "        self.val_loss_min = val_loss"
   ]
  },
  {
   "cell_type": "code",
   "execution_count": 62,
   "metadata": {
    "execution": {
     "iopub.execute_input": "2025-06-24T19:31:05.331481Z",
     "iopub.status.busy": "2025-06-24T19:31:05.331280Z",
     "iopub.status.idle": "2025-06-24T19:31:05.343517Z",
     "shell.execute_reply": "2025-06-24T19:31:05.342848Z",
     "shell.execute_reply.started": "2025-06-24T19:31:05.331467Z"
    },
    "trusted": true
   },
   "outputs": [
    {
     "data": {
      "text/plain": [
       "tensor([0.8622, 0.8584, 1.6870, 0.8584, 0.8622, 0.8584, 1.6870],\n",
       "       device='cuda:0')"
      ]
     },
     "execution_count": 62,
     "metadata": {},
     "output_type": "execute_result"
    }
   ],
   "source": [
    "weights_tensor"
   ]
  },
  {
   "cell_type": "code",
   "execution_count": 63,
   "metadata": {
    "execution": {
     "iopub.execute_input": "2025-06-24T19:31:05.344364Z",
     "iopub.status.busy": "2025-06-24T19:31:05.344163Z",
     "iopub.status.idle": "2025-06-24T19:31:05.363744Z",
     "shell.execute_reply": "2025-06-24T19:31:05.363237Z",
     "shell.execute_reply.started": "2025-06-24T19:31:05.344350Z"
    },
    "trusted": true
   },
   "outputs": [
    {
     "name": "stdout",
     "output_type": "stream",
     "text": [
      "--- Starting training with the new CNN+LSTM+Attention model ---\n"
     ]
    }
   ],
   "source": [
    "\n",
    "# --- Get required dimensions ---\n",
    "NUM_FEATURES = X_train_tensor.shape[2]\n",
    "\n",
    "# --- Instantiate the NEW Attention model ---\n",
    "model = CNN_LSTM_Attention_Model(\n",
    "    num_features=NUM_FEATURES, # This will now be ~65\n",
    "    num_classes=NUM_CLASSES,\n",
    "    lstm_hidden_size=128 # Let's give it a bit more capacity to handle the rich features\n",
    ").to(device)\n",
    "\n",
    "# --- Define Optimizer and Loss Function ---\n",
    "EPOCHS=50\n",
    "LEARNING_RATE = 0.001\n",
    "# Start with a moderate weight decay. Attention models can still overfit.\n",
    "optimizer = optim.Adam(model.parameters(), lr=LEARNING_RATE, weight_decay=1e-4) \n",
    "\n",
    "# NO class weights, as requested\n",
    "criterion = nn.CrossEntropyLoss()\n",
    "early_stopper = EarlyStopping(patience=5, verbose=True, path='checkpoint_attention.pt')\n",
    "\n",
    "print(\"--- Starting training with the new CNN+LSTM+Attention model ---\")\n",
    "# Now, run your existing training loop with this new setup. No other changes are needed."
   ]
  },
  {
   "cell_type": "code",
   "execution_count": 64,
   "metadata": {
    "execution": {
     "iopub.execute_input": "2025-06-24T19:31:05.364556Z",
     "iopub.status.busy": "2025-06-24T19:31:05.364351Z",
     "iopub.status.idle": "2025-06-24T19:31:34.032083Z",
     "shell.execute_reply": "2025-06-24T19:31:34.031253Z",
     "shell.execute_reply.started": "2025-06-24T19:31:05.364541Z"
    },
    "trusted": true
   },
   "outputs": [
    {
     "name": "stdout",
     "output_type": "stream",
     "text": [
      "\n",
      "--- Starting Training ---\n",
      "Epoch: 1/50 | Train Loss: 1.6739 | Train Acc: 0.3061 | Val Loss: 1.4439 | Val Acc: 0.4018\n",
      "Validation loss decreased (inf --> 1.443940).  Saving model ...\n",
      "Epoch: 2/50 | Train Loss: 1.3998 | Train Acc: 0.4264 | Val Loss: 1.2175 | Val Acc: 0.5188\n",
      "Validation loss decreased (1.443940 --> 1.217511).  Saving model ...\n",
      "Epoch: 3/50 | Train Loss: 1.2277 | Train Acc: 0.5039 | Val Loss: 0.9809 | Val Acc: 0.6203\n",
      "Validation loss decreased (1.217511 --> 0.980891).  Saving model ...\n",
      "Epoch: 4/50 | Train Loss: 1.0718 | Train Acc: 0.5859 | Val Loss: 0.8527 | Val Acc: 0.6512\n",
      "Validation loss decreased (0.980891 --> 0.852697).  Saving model ...\n",
      "Epoch: 5/50 | Train Loss: 0.9398 | Train Acc: 0.6357 | Val Loss: 0.9273 | Val Acc: 0.6667\n",
      "EarlyStopping counter: 1 out of 5\n",
      "Epoch: 6/50 | Train Loss: 0.8283 | Train Acc: 0.6993 | Val Loss: 0.8787 | Val Acc: 0.6490\n",
      "EarlyStopping counter: 2 out of 5\n",
      "Epoch: 7/50 | Train Loss: 0.7800 | Train Acc: 0.7062 | Val Loss: 0.7366 | Val Acc: 0.7174\n",
      "Validation loss decreased (0.852697 --> 0.736647).  Saving model ...\n",
      "Epoch: 8/50 | Train Loss: 0.6839 | Train Acc: 0.7631 | Val Loss: 0.7051 | Val Acc: 0.7528\n",
      "Validation loss decreased (0.736647 --> 0.705147).  Saving model ...\n",
      "Epoch: 9/50 | Train Loss: 0.6125 | Train Acc: 0.7774 | Val Loss: 0.9377 | Val Acc: 0.6909\n",
      "EarlyStopping counter: 1 out of 5\n",
      "Epoch: 10/50 | Train Loss: 0.5470 | Train Acc: 0.8061 | Val Loss: 0.8758 | Val Acc: 0.7130\n",
      "EarlyStopping counter: 2 out of 5\n",
      "Epoch: 11/50 | Train Loss: 0.4991 | Train Acc: 0.8122 | Val Loss: 0.7015 | Val Acc: 0.7616\n",
      "Validation loss decreased (0.705147 --> 0.701506).  Saving model ...\n",
      "Epoch: 12/50 | Train Loss: 0.4394 | Train Acc: 0.8503 | Val Loss: 0.8794 | Val Acc: 0.7439\n",
      "EarlyStopping counter: 1 out of 5\n",
      "Epoch: 13/50 | Train Loss: 0.3960 | Train Acc: 0.8603 | Val Loss: 0.7390 | Val Acc: 0.7506\n",
      "EarlyStopping counter: 2 out of 5\n",
      "Epoch: 14/50 | Train Loss: 0.3794 | Train Acc: 0.8675 | Val Loss: 0.7348 | Val Acc: 0.7682\n",
      "EarlyStopping counter: 3 out of 5\n",
      "Epoch: 15/50 | Train Loss: 0.3641 | Train Acc: 0.8697 | Val Loss: 0.6435 | Val Acc: 0.7903\n",
      "Validation loss decreased (0.701506 --> 0.643473).  Saving model ...\n",
      "Epoch: 16/50 | Train Loss: 0.2764 | Train Acc: 0.9048 | Val Loss: 0.6705 | Val Acc: 0.8057\n",
      "EarlyStopping counter: 1 out of 5\n",
      "Epoch: 17/50 | Train Loss: 0.2902 | Train Acc: 0.9001 | Val Loss: 0.6720 | Val Acc: 0.8057\n",
      "EarlyStopping counter: 2 out of 5\n",
      "Epoch: 18/50 | Train Loss: 0.2850 | Train Acc: 0.8957 | Val Loss: 1.0676 | Val Acc: 0.7285\n",
      "EarlyStopping counter: 3 out of 5\n",
      "Epoch: 19/50 | Train Loss: 0.2626 | Train Acc: 0.9048 | Val Loss: 0.7447 | Val Acc: 0.7947\n",
      "EarlyStopping counter: 4 out of 5\n",
      "Epoch: 20/50 | Train Loss: 0.2833 | Train Acc: 0.8949 | Val Loss: 0.7699 | Val Acc: 0.7770\n",
      "EarlyStopping counter: 5 out of 5\n",
      "Early stopping triggered\n"
     ]
    }
   ],
   "source": [
    "print(\"\\n--- Starting Training ---\")\n",
    "for epoch in range(1, EPOCHS + 1):\n",
    "    # --- Training Phase ---\n",
    "    model.train()\n",
    "    running_loss = 0.0\n",
    "    correct_train = 0\n",
    "    total_train = 0\n",
    "    \n",
    "    for inputs, labels in train_loader:\n",
    "        inputs, labels = inputs.to(device), labels.to(device)\n",
    "        \n",
    "        optimizer.zero_grad()\n",
    "        \n",
    "        outputs = model(inputs)\n",
    "        loss = criterion(outputs, labels)\n",
    "        \n",
    "        loss.backward()\n",
    "        optimizer.step()\n",
    "        \n",
    "        running_loss += loss.item() * inputs.size(0)\n",
    "        \n",
    "        _, predicted = torch.max(outputs.data, 1)\n",
    "        total_train += labels.size(0)\n",
    "        correct_train += (predicted == labels).sum().item()\n",
    "\n",
    "    train_loss = running_loss / len(train_loader.dataset)\n",
    "    train_acc = correct_train / total_train\n",
    "\n",
    "    # --- Validation Phase ---\n",
    "    model.eval()\n",
    "    val_loss = 0.0\n",
    "    correct_val = 0\n",
    "    total_val = 0\n",
    "    \n",
    "    with torch.no_grad():\n",
    "        for inputs, labels in val_loader:\n",
    "            inputs, labels = inputs.to(device), labels.to(device)\n",
    "            \n",
    "            outputs = model(inputs)\n",
    "            loss = criterion(outputs, labels)\n",
    "            \n",
    "            val_loss += loss.item() * inputs.size(0)\n",
    "            \n",
    "            _, predicted = torch.max(outputs.data, 1)\n",
    "            total_val += labels.size(0)\n",
    "            correct_val += (predicted == labels).sum().item()\n",
    "\n",
    "    avg_val_loss = val_loss / len(val_loader.dataset)\n",
    "    val_acc = correct_val / total_val\n",
    "    \n",
    "    print(f\"Epoch: {epoch}/{EPOCHS} | \"\n",
    "          f\"Train Loss: {train_loss:.4f} | Train Acc: {train_acc:.4f} | \"\n",
    "          f\"Val Loss: {avg_val_loss:.4f} | Val Acc: {val_acc:.4f}\")\n",
    "    \n",
    "    # Early stopping call\n",
    "    early_stopper(avg_val_loss, model)\n",
    "    if early_stopper.early_stop:\n",
    "        print(\"Early stopping triggered\")\n",
    "        break"
   ]
  },
  {
   "cell_type": "code",
   "execution_count": 65,
   "metadata": {
    "execution": {
     "iopub.execute_input": "2025-06-24T19:31:34.033176Z",
     "iopub.status.busy": "2025-06-24T19:31:34.032920Z",
     "iopub.status.idle": "2025-06-24T19:31:34.044605Z",
     "shell.execute_reply": "2025-06-24T19:31:34.043852Z",
     "shell.execute_reply.started": "2025-06-24T19:31:34.033150Z"
    },
    "trusted": true
   },
   "outputs": [
    {
     "name": "stdout",
     "output_type": "stream",
     "text": [
      "\n",
      "--- Training Finished ---\n",
      "Best model weights loaded for final evaluation.\n"
     ]
    }
   ],
   "source": [
    "# --- Post-Training ---\n",
    "print(\"\\n--- Training Finished ---\")\n",
    "# Load the best model weights found during training\n",
    "model.load_state_dict(torch.load('checkpoint_attention.pt'))\n",
    "print(\"Best model weights loaded for final evaluation.\")"
   ]
  },
  {
   "cell_type": "code",
   "execution_count": 66,
   "metadata": {
    "execution": {
     "iopub.execute_input": "2025-06-24T19:31:34.045733Z",
     "iopub.status.busy": "2025-06-24T19:31:34.045440Z",
     "iopub.status.idle": "2025-06-24T19:31:34.054718Z",
     "shell.execute_reply": "2025-06-24T19:31:34.054021Z",
     "shell.execute_reply.started": "2025-06-24T19:31:34.045687Z"
    },
    "trusted": true
   },
   "outputs": [],
   "source": [
    "from sklearn.metrics import classification_report, confusion_matrix\n",
    "import seaborn as sns\n",
    "import matplotlib.pyplot as plt"
   ]
  },
  {
   "cell_type": "code",
   "execution_count": 67,
   "metadata": {
    "execution": {
     "iopub.execute_input": "2025-06-24T19:31:34.055568Z",
     "iopub.status.busy": "2025-06-24T19:31:34.055387Z",
     "iopub.status.idle": "2025-06-24T19:31:34.400382Z",
     "shell.execute_reply": "2025-06-24T19:31:34.399811Z",
     "shell.execute_reply.started": "2025-06-24T19:31:34.055553Z"
    },
    "trusted": true
   },
   "outputs": [
    {
     "name": "stdout",
     "output_type": "stream",
     "text": [
      "\n",
      "--- Generating Classification Report for Validation Set ---\n",
      "\n",
      "Classification Report:\n",
      "              precision    recall  f1-score   support\n",
      "\n",
      "       angry       0.84      0.92      0.88        76\n",
      "        calm       0.83      0.87      0.85        75\n",
      "     disgust       0.78      0.66      0.71        38\n",
      "        fear       0.69      0.80      0.74        75\n",
      "       happy       0.80      0.83      0.81        76\n",
      "         sad       0.78      0.57      0.66        75\n",
      "    surprise       0.82      0.84      0.83        38\n",
      "\n",
      "    accuracy                           0.79       453\n",
      "   macro avg       0.79      0.78      0.78       453\n",
      "weighted avg       0.79      0.79      0.79       453\n",
      "\n",
      "\n",
      "Confusion Matrix:\n"
     ]
    },
    {
     "data": {
      "image/png": "[encoded data removed]",
      "text/plain": [
       "<Figure size 1000x800 with 2 Axes>"
      ]
     },
     "metadata": {},
     "output_type": "display_data"
    }
   ],
   "source": [
    "# --- 5. Evaluate the Final Model on the Validation Set ---\n",
    "print(\"\\n--- Generating Classification Report for Validation Set ---\")\n",
    "\n",
    "# Put the model in evaluation mode\n",
    "model.eval()\n",
    "\n",
    "# Store predictions and true labels\n",
    "all_preds = []\n",
    "all_labels = []\n",
    "\n",
    "# No need to track gradients for evaluation\n",
    "with torch.no_grad():\n",
    "    for inputs, labels in val_loader:\n",
    "        inputs, labels = inputs.to(device), labels.to(device)\n",
    "        \n",
    "        outputs = model(inputs)\n",
    "        \n",
    "        # Get the predicted class (the one with the highest probability)\n",
    "        _, predicted = torch.max(outputs.data, 1)\n",
    "        \n",
    "        # Append batch predictions and labels to the lists\n",
    "        all_preds.extend(predicted.cpu().numpy())\n",
    "        all_labels.extend(labels.cpu().numpy())\n",
    "\n",
    "# Get the class names from the label encoder\n",
    "class_names = le.classes_\n",
    "\n",
    "# Print the classification report\n",
    "print(\"\\nClassification Report:\")\n",
    "print(classification_report(all_labels, all_preds, target_names=class_names))\n",
    "\n",
    "\n",
    "# --- (Optional but Recommended) Visualize the Confusion Matrix ---\n",
    "print(\"\\nConfusion Matrix:\")\n",
    "cm = confusion_matrix(all_labels, all_preds)\n",
    "cm_df = pd.DataFrame(cm, index=class_names, columns=class_names)\n",
    "\n",
    "plt.figure(figsize=(10, 8))\n",
    "sns.heatmap(cm_df, annot=True, fmt='d', cmap='Blues')\n",
    "plt.title('Confusion Matrix for Validation Set')\n",
    "plt.ylabel('Actual Label')\n",
    "plt.xlabel('Predicted Label')\n",
    "plt.show()"
   ]
  },
  {
   "cell_type": "code",
   "execution_count": 68,
   "metadata": {
    "execution": {
     "iopub.execute_input": "2025-06-24T19:31:34.401306Z",
     "iopub.status.busy": "2025-06-24T19:31:34.401079Z",
     "iopub.status.idle": "2025-06-24T19:31:34.414481Z",
     "shell.execute_reply": "2025-06-24T19:31:34.413707Z",
     "shell.execute_reply.started": "2025-06-24T19:31:34.401289Z"
    },
    "trusted": true
   },
   "outputs": [
    {
     "name": "stdout",
     "output_type": "stream",
     "text": [
      "--- Starting Final Evaluation on the Unseen Test Set ---\n",
      "Preparing test data by filtering out the 'neutral' class...\n",
      "The original index of the 'neutral' class was: 5\n",
      "\n",
      "Original number of test samples: 491\n",
      "Number of test samples after filtering 'neutral': 453\n",
      "\n",
      "Test DataLoader created with filtered data.\n"
     ]
    }
   ],
   "source": [
    "import numpy as np\n",
    "import torch\n",
    "from torch.utils.data import DataLoader, TensorDataset\n",
    "from sklearn.metrics import classification_report, confusion_matrix, accuracy_score\n",
    "import seaborn as sns\n",
    "import matplotlib.pyplot as plt\n",
    "import pandas as pd\n",
    "\n",
    "# ==============================================================================\n",
    "# FINAL EVALUATION ON THE TEST SET for the 1D CNN Model\n",
    "# ==============================================================================\n",
    "\n",
    "print(\"--- Starting Final Evaluation on the Unseen Test Set ---\")\n",
    "\n",
    "# --- Step 1: Ensure the model is in evaluation mode ---\n",
    "model.eval()\n",
    "\n",
    "# --- Step 2: Prepare the Test Data by FILTERING out the 'neutral' class ---\n",
    "# We must do this because the model was not trained on 'neutral'.\n",
    "\n",
    "print(\"Preparing test data by filtering out the 'neutral' class...\")\n",
    "\n",
    "# To do this robustly, we must know the original class list BEFORE any filtering.\n",
    "# Let's assume the original order was this (common for RAVDESS).\n",
    "# IMPORTANT: Adjust this list if your original order was different.\n",
    "original_class_names = ['anger', 'calm', 'disgust', 'fear', 'happy', 'neutral', 'sad', 'surprise']\n",
    "\n",
    "try:\n",
    "    # Find the integer index that 'neutral' had in the original, full dataset.\n",
    "    neutral_class_index_original = original_class_names.index('neutral')\n",
    "    print(f\"The original index of the 'neutral' class was: {neutral_class_index_original}\")\n",
    "\n",
    "    # Create a boolean mask to select every sample where the label is NOT the original neutral index.\n",
    "    # `y_test` holds the labels corresponding to the original full class list.\n",
    "    test_mask = y_test != neutral_class_index_original\n",
    "\n",
    "    # Apply the mask to filter both the features and the labels.\n",
    "    X_test_filtered = X_test_scaled[test_mask]\n",
    "    y_test_filtered = y_test[test_mask]\n",
    "\n",
    "    print(f\"\\nOriginal number of test samples: {len(y_test)}\")\n",
    "    print(f\"Number of test samples after filtering 'neutral': {len(y_test_filtered)}\")\n",
    "\n",
    "    # **CRUCIAL**: Remap the remaining labels to match the model's output (0, 1, 2, ...).\n",
    "    # This collapses the gap left by removing the neutral class.\n",
    "    y_test_remapped = np.array([label if label < neutral_class_index_original else label - 1 for label in y_test_filtered])\n",
    "\n",
    "except ValueError:\n",
    "    print(\"'neutral' class not found in the assumed original list. Proceeding without filtering.\")\n",
    "    # This block runs if 'neutral' was somehow already removed from the test set.\n",
    "    X_test_filtered = X_test_scaled\n",
    "    y_test_remapped = y_test\n",
    "\n",
    "\n",
    "# --- Step 3: Convert to Tensors and Create DataLoader ---\n",
    "# We now use the filtered and remapped data.\n",
    "X_test_tensor = torch.from_numpy(X_test_filtered).float()\n",
    "y_test_tensor = torch.from_numpy(y_test_remapped).long()\n",
    "\n",
    "BATCH_SIZE = 32\n",
    "test_dataset = TensorDataset(X_test_tensor, y_test_tensor)\n",
    "test_loader = DataLoader(test_dataset, batch_size=BATCH_SIZE, shuffle=False)\n",
    "\n",
    "print(\"\\nTest DataLoader created with filtered data.\")\n"
   ]
  },
  {
   "cell_type": "code",
   "execution_count": 69,
   "metadata": {
    "execution": {
     "iopub.execute_input": "2025-06-24T19:31:34.415477Z",
     "iopub.status.busy": "2025-06-24T19:31:34.415240Z",
     "iopub.status.idle": "2025-06-24T19:31:34.422501Z",
     "shell.execute_reply": "2025-06-24T19:31:34.421896Z",
     "shell.execute_reply.started": "2025-06-24T19:31:34.415461Z"
    },
    "trusted": true
   },
   "outputs": [
    {
     "data": {
      "text/plain": [
       "torch.Size([453, 223, 65])"
      ]
     },
     "execution_count": 69,
     "metadata": {},
     "output_type": "execute_result"
    }
   ],
   "source": [
    "X_test_tensor.shape"
   ]
  },
  {
   "cell_type": "code",
   "execution_count": 70,
   "metadata": {
    "execution": {
     "iopub.execute_input": "2025-06-24T19:31:34.423419Z",
     "iopub.status.busy": "2025-06-24T19:31:34.423172Z",
     "iopub.status.idle": "2025-06-24T19:31:34.495688Z",
     "shell.execute_reply": "2025-06-24T19:31:34.494815Z",
     "shell.execute_reply.started": "2025-06-24T19:31:34.423404Z"
    },
    "trusted": true
   },
   "outputs": [
    {
     "name": "stdout",
     "output_type": "stream",
     "text": [
      "Inference complete.\n"
     ]
    }
   ],
   "source": [
    "# --- Step 4: Run Inference on the Filtered Test Set ---\n",
    "all_preds = []\n",
    "all_labels = []\n",
    "\n",
    "with torch.no_grad():\n",
    "    for inputs, labels in test_loader:\n",
    "        inputs, labels = inputs.to(device), labels.to(device)\n",
    "        outputs = model(inputs)\n",
    "        _, predicted = torch.max(outputs.data, 1)\n",
    "        \n",
    "        all_preds.extend(predicted.cpu().numpy())\n",
    "        all_labels.extend(labels.cpu().numpy())\n",
    "\n",
    "print(\"Inference complete.\")\n"
   ]
  },
  {
   "cell_type": "code",
   "execution_count": 71,
   "metadata": {
    "execution": {
     "iopub.execute_input": "2025-06-24T19:31:34.496634Z",
     "iopub.status.busy": "2025-06-24T19:31:34.496460Z",
     "iopub.status.idle": "2025-06-24T19:31:34.510265Z",
     "shell.execute_reply": "2025-06-24T19:31:34.509378Z",
     "shell.execute_reply.started": "2025-06-24T19:31:34.496621Z"
    },
    "trusted": true
   },
   "outputs": [
    {
     "name": "stdout",
     "output_type": "stream",
     "text": [
      "\n",
      "======================================================================\n",
      "FINAL TEST ACCURACY (on known classes): 78.15%\n",
      "======================================================================\n",
      "\n",
      "Classification Report (on known classes):\n",
      "              precision    recall  f1-score   support\n",
      "\n",
      "       angry      0.890     0.867     0.878        75\n",
      "        calm      0.868     0.880     0.874        75\n",
      "     disgust      0.800     0.821     0.810        39\n",
      "        fear      0.708     0.613     0.657        75\n",
      "       happy      0.783     0.867     0.823        75\n",
      "         sad      0.658     0.693     0.675        75\n",
      "    surprise      0.757     0.718     0.737        39\n",
      "\n",
      "    accuracy                          0.781       453\n",
      "   macro avg      0.781     0.780     0.779       453\n",
      "weighted avg      0.781     0.781     0.780       453\n",
      "\n"
     ]
    }
   ],
   "source": [
    "# --- Step 5: Calculate and Print Final Metrics ---\n",
    "# The label encoder 'le' should be the one from AFTER filtering 'neutral'\n",
    "# It will contain the correct class names for the report.\n",
    "class_names = le.classes_\n",
    "\n",
    "# Sanity check: ensure the number of classes matches the model's understanding\n",
    "if len(class_names) != model.fc.out_features:\n",
    "     print(f\"WARNING: Class name count ({len(class_names)}) does not match model output count ({model.fc.out_features}).\")\n",
    "\n",
    "final_accuracy = accuracy_score(all_labels, all_preds)\n",
    "print(f\"\\n======================================================================\")\n",
    "print(f\"FINAL TEST ACCURACY (on known classes): {final_accuracy * 100:.2f}%\")\n",
    "print(f\"======================================================================\")\n",
    "\n",
    "print(\"\\nClassification Report (on known classes):\")\n",
    "print(classification_report(all_labels, all_preds, target_names=class_names, digits=3))\n"
   ]
  },
  {
   "cell_type": "code",
   "execution_count": 72,
   "metadata": {
    "execution": {
     "iopub.execute_input": "2025-06-24T19:31:34.511673Z",
     "iopub.status.busy": "2025-06-24T19:31:34.511101Z",
     "iopub.status.idle": "2025-06-24T19:31:34.723020Z",
     "shell.execute_reply": "2025-06-24T19:31:34.722353Z",
     "shell.execute_reply.started": "2025-06-24T19:31:34.511638Z"
    },
    "trusted": true
   },
   "outputs": [
    {
     "name": "stdout",
     "output_type": "stream",
     "text": [
      "\n",
      "Confusion Matrix (on known classes):\n"
     ]
    },
    {
     "data": {
      "image/png": "[encoded data removed]",
      "text/plain": [
       "<Figure size 1000x800 with 1 Axes>"
      ]
     },
     "metadata": {},
     "output_type": "display_data"
    }
   ],
   "source": [
    "\n",
    "\n",
    "# --- Step 6: Visualize the Confusion Matrix ---\n",
    "print(\"\\nConfusion Matrix (on known classes):\")\n",
    "cm = confusion_matrix(all_labels, all_preds)\n",
    "cm_df = pd.DataFrame(cm, index=class_names, columns=class_names)\n",
    "\n",
    "plt.figure(figsize=(10, 8))\n",
    "sns.heatmap(cm_df, annot=True, fmt='d', cmap='Blues', cbar=False)\n",
    "plt.title('Confusion Matrix for Test Set (Known Classes Only)', fontsize=16)\n",
    "plt.ylabel('Actual Label', fontsize=12)\n",
    "plt.xlabel('Predicted Label', fontsize=12)\n",
    "plt.show()"
   ]
  },
  {
   "cell_type": "code",
   "execution_count": null,
   "metadata": {},
   "outputs": [],
   "source": [
    "import shutil"
   ]
  },
  {
   "cell_type": "code",
   "execution_count": null,
   "metadata": {},
   "outputs": [],
   "source": [
    "DOWNLOAD_DIR = 'final_model_artifacts'\n",
    "if os.path.exists(DOWNLOAD_DIR):\n",
    "    shutil.rmtree(DOWNLOAD_DIR) # Clean up old folder if it exists\n",
    "os.makedirs(DOWNLOAD_DIR)\n",
    "\n",
    "print(f\"Created a new directory for downloads: '{DOWNLOAD_DIR}'\")\n",
    "\n",
    "# --- 1. Define paths for all files ---\n",
    "\n",
    "# Path to the best model weights saved by EarlyStopping\n",
    "# Make sure this matches the 'path' argument in your EarlyStopping instance\n",
    "BEST_MODEL_PATH_SOURCE = 'checkpoint_attention.pt' # Or whatever you named it\n",
    "\n",
    "# Destination path inside our new download folder\n",
    "BEST_MODEL_PATH_DEST = os.path.join(DOWNLOAD_DIR, 'best_model.pt')\n",
    "\n",
    "# Paths to the scaler and encoder you loaded from your Kaggle dataset\n",
    "# Make sure KAGGLE_INPUT_PATH is correctly defined\n",
    "KAGGLE_INPUT_PATH = '/kaggle/input/audio-dataset-advanced' #<-- CHANGE THIS\n",
    "SCALER_PATH_SOURCE = os.path.join(KAGGLE_INPUT_PATH, 'scaler_advanced.joblib')\n",
    "ENCODER_PATH_SOURCE = os.path.join(KAGGLE_INPUT_PATH, 'label_encoder_advanced.joblib')\n",
    "\n",
    "# Destination paths for the scaler and encoder\n",
    "SCALER_PATH_DEST = os.path.join(DOWNLOAD_DIR, 'scaler.joblib')\n",
    "ENCODER_PATH_DEST = os.path.join(DOWNLOAD_DIR, 'label_encoder.joblib')\n",
    "\n",
    "\n",
    "# --- 2. Copy all the files into the download folder ---\n",
    "\n",
    "try:\n",
    "    shutil.copyfile(BEST_MODEL_PATH_SOURCE, BEST_MODEL_PATH_DEST)\n",
    "    print(f\"  - Copied model weights to '{BEST_MODEL_PATH_DEST}'\")\n",
    "    \n",
    "    shutil.copyfile(SCALER_PATH_SOURCE, SCALER_PATH_DEST)\n",
    "    print(f\"  - Copied scaler to '{SCALER_PATH_DEST}'\")\n",
    "    \n",
    "    shutil.copyfile(ENCODER_PATH_SOURCE, ENCODER_PATH_DEST)\n",
    "    print(f\"  - Copied label encoder to '{ENCODER_PATH_DEST}'\")\n",
    "\n",
    "except FileNotFoundError as e:\n",
    "    print(f\"\\nERROR: A source file was not found. Please check your paths.\")\n",
    "    print(f\"Details: {e}\")\n",
    "\n",
    "# --- 3. (Optional but Recommended) Create a ZIP file for easy download ---\n",
    "\n",
    "# The output of a Kaggle notebook is in the /kaggle/working/ directory\n",
    "shutil.make_archive('final_model_package', 'zip', DOWNLOAD_DIR)\n",
    "\n",
    "print(\"\\n--- All Done! ---\")\n",
    "print(\"A ZIP file named 'final_model_package.zip' has been created in the output directory.\")\n",
    "print(\"You can now download this single file from the Kaggle interface.\")"
   ]
  }
 ],
 "metadata": {
  "kaggle": {
   "accelerator": "nvidiaTeslaT4",
   "dataSources": [
    {
     "datasetId": 7733715,
     "sourceId": 12272286,
     "sourceType": "datasetVersion"
    }
   ],
   "dockerImageVersionId": 31041,
   "isGpuEnabled": true,
   "isInternetEnabled": true,
   "language": "python",
   "sourceType": "notebook"
  },
  "kernelspec": {
   "display_name": "Python 3",
   "language": "python",
   "name": "python3"
  },
  "language_info": {
   "codemirror_mode": {
    "name": "ipython",
    "version": 3
   },
   "file_extension": ".py",
   "mimetype": "text/x-python",
   "name": "python",
   "nbconvert_exporter": "python",
   "pygments_lexer": "ipython3",
   "version": "3.11.11"
  }
 },
 "nbformat": 4,
 "nbformat_minor": 4
}

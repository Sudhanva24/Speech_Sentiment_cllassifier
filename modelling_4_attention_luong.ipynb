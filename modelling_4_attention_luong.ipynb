{
 "cells": [
  {
   "cell_type": "code",
   "execution_count": 369,
   "metadata": {
    "_cell_guid": "b1076dfc-b9ad-4769-8c92-a6c4dae69d19",
    "_uuid": "8f2839f25d086af736a60e9eeb907d3b93b6e0e5",
    "execution": {
     "iopub.execute_input": "2025-06-24T16:17:48.613560Z",
     "iopub.status.busy": "2025-06-24T16:17:48.613242Z",
     "iopub.status.idle": "2025-06-24T16:17:48.620293Z",
     "shell.execute_reply": "2025-06-24T16:17:48.619645Z",
     "shell.execute_reply.started": "2025-06-24T16:17:48.613524Z"
    },
    "trusted": true
   },
   "outputs": [
    {
     "name": "stdout",
     "output_type": "stream",
     "text": [
      "/kaggle/input/audio-dataset-new-2/label_encoder.joblib\n",
      "/kaggle/input/audio-dataset-new-2/scaler.joblib\n",
      "/kaggle/input/audio-dataset-new-2/audio_data_processed.npz\n"
     ]
    }
   ],
   "source": [
    "# This Python 3 environment comes with many helpful analytics libraries installed\n",
    "# It is defined by the kaggle/python Docker image: https://github.com/kaggle/docker-python\n",
    "# For example, here's several helpful packages to load\n",
    "import torch\n",
    "import torch.nn as nn\n",
    "import torch.optim as optim\n",
    "from torch.utils.data import DataLoader, TensorDataset\n",
    "import numpy as np # linear algebra\n",
    "import pandas as pd # data processing, CSV file I/O (e.g. pd.read_csv)\n",
    "\n",
    "# Input data files are available in the read-only \"../input/\" directory\n",
    "# For example, running this (by clicking run or pressing Shift+Enter) will list all files under the input directory\n",
    "\n",
    "import os\n",
    "for dirname, _, filenames in os.walk('/kaggle/input'):\n",
    "    for filename in filenames:\n",
    "        print(os.path.join(dirname, filename))\n",
    "\n",
    "# You can write up to 20GB to the current directory (/kaggle/working/) that gets preserved as output when you create a version using \"Save & Run All\" \n",
    "# You can also write temporary files to /kaggle/temp/, but they won't be saved outside of the current session"
   ]
  },
  {
   "cell_type": "code",
   "execution_count": 370,
   "metadata": {
    "execution": {
     "iopub.execute_input": "2025-06-24T16:17:48.621722Z",
     "iopub.status.busy": "2025-06-24T16:17:48.621530Z",
     "iopub.status.idle": "2025-06-24T16:17:48.643825Z",
     "shell.execute_reply": "2025-06-24T16:17:48.643236Z",
     "shell.execute_reply.started": "2025-06-24T16:17:48.621707Z"
    },
    "trusted": true
   },
   "outputs": [],
   "source": [
    "from sklearn.utils.class_weight import compute_class_weight"
   ]
  },
  {
   "cell_type": "code",
   "execution_count": 371,
   "metadata": {
    "execution": {
     "iopub.execute_input": "2025-06-24T16:17:48.645668Z",
     "iopub.status.busy": "2025-06-24T16:17:48.645174Z",
     "iopub.status.idle": "2025-06-24T16:17:49.156237Z",
     "shell.execute_reply": "2025-06-24T16:17:49.155396Z",
     "shell.execute_reply.started": "2025-06-24T16:17:48.645650Z"
    },
    "trusted": true
   },
   "outputs": [
    {
     "name": "stdout",
     "output_type": "stream",
     "text": [
      "--- Data loading complete! ---\n",
      "Shape of X_train_scaled: (4410, 223, 20)\n",
      "Shape of y_train_categorical: (4410, 8)\n",
      "Shape of X_val_scaled: (491, 223, 20)\n",
      "Shape of y_val_categorical: (491, 8)\n",
      "\n",
      "Label Encoder classes (to interpret predictions):\n",
      "['angry' 'calm' 'disgust' 'fear' 'happy' 'neutral' 'sad' 'surprise']\n"
     ]
    },
    {
     "name": "stderr",
     "output_type": "stream",
     "text": [
      "/usr/local/lib/python3.11/dist-packages/sklearn/base.py:318: UserWarning: Trying to unpickle estimator StandardScaler from version 1.6.1 when using version 1.2.2. This might lead to breaking code or invalid results. Use at your own risk. For more info please refer to:\n",
      "https://scikit-learn.org/stable/model_persistence.html#security-maintainability-limitations\n",
      "  warnings.warn(\n",
      "/usr/local/lib/python3.11/dist-packages/sklearn/base.py:318: UserWarning: Trying to unpickle estimator LabelEncoder from version 1.6.1 when using version 1.2.2. This might lead to breaking code or invalid results. Use at your own risk. For more info please refer to:\n",
      "https://scikit-learn.org/stable/model_persistence.html#security-maintainability-limitations\n",
      "  warnings.warn(\n"
     ]
    }
   ],
   "source": [
    "import joblib\n",
    "# --- This code goes at the start of your Kaggle Notebook ---\n",
    "# --- 1. Define the path to your uploaded data ---\n",
    "# The path is usually /kaggle/input/your-dataset-name\n",
    "KAGGLE_INPUT_PATH = '/kaggle/input/audio-dataset-new-2' #<-- CHANGE THIS to your dataset name on Kaggle\n",
    "\n",
    "# --- 2. Load the NumPy arrays ---\n",
    "data_path = os.path.join(KAGGLE_INPUT_PATH, 'audio_data_processed.npz')\n",
    "data = np.load(data_path)\n",
    "\n",
    "# Extract each array from the loaded .npz file\n",
    "X_train_scaled = data['X_train']\n",
    "X_val_scaled = data['X_val']\n",
    "X_test_scaled = data['X_test']\n",
    "y_train_categorical = data['y_train']\n",
    "y_val_categorical = data['y_val']\n",
    "y_test_categorical = data['y_test']\n",
    "\n",
    "# --- 3. Load the preprocessing objects ---\n",
    "scaler_path = os.path.join(KAGGLE_INPUT_PATH, 'scaler.joblib')\n",
    "scaler = joblib.load(scaler_path)\n",
    "\n",
    "label_encoder_path = os.path.join(KAGGLE_INPUT_PATH, 'label_encoder.joblib')\n",
    "le = joblib.load(label_encoder_path)\n",
    "\n",
    "\n",
    "# --- 4. Verify that everything loaded correctly ---\n",
    "print(\"--- Data loading complete! ---\")\n",
    "print(f\"Shape of X_train_scaled: {X_train_scaled.shape}\")\n",
    "print(f\"Shape of y_train_categorical: {y_train_categorical.shape}\")\n",
    "print(f\"Shape of X_val_scaled: {X_val_scaled.shape}\")\n",
    "print(f\"Shape of y_val_categorical: {y_val_categorical.shape}\")\n",
    "print(\"\\nLabel Encoder classes (to interpret predictions):\")\n",
    "print(le.classes_)"
   ]
  },
  {
   "cell_type": "code",
   "execution_count": 372,
   "metadata": {
    "execution": {
     "iopub.execute_input": "2025-06-24T16:17:49.157323Z",
     "iopub.status.busy": "2025-06-24T16:17:49.157090Z",
     "iopub.status.idle": "2025-06-24T16:17:49.160690Z",
     "shell.execute_reply": "2025-06-24T16:17:49.160137Z",
     "shell.execute_reply.started": "2025-06-24T16:17:49.157306Z"
    },
    "trusted": true
   },
   "outputs": [],
   "source": [
    "NUM_CLASSES = len(le.classes_)"
   ]
  },
  {
   "cell_type": "code",
   "execution_count": 373,
   "metadata": {
    "execution": {
     "iopub.execute_input": "2025-06-24T16:17:49.162673Z",
     "iopub.status.busy": "2025-06-24T16:17:49.162077Z",
     "iopub.status.idle": "2025-06-24T16:17:49.180777Z",
     "shell.execute_reply": "2025-06-24T16:17:49.179991Z",
     "shell.execute_reply.started": "2025-06-24T16:17:49.162649Z"
    },
    "trusted": true
   },
   "outputs": [
    {
     "data": {
      "text/plain": [
       "8"
      ]
     },
     "execution_count": 373,
     "metadata": {},
     "output_type": "execute_result"
    }
   ],
   "source": [
    "NUM_CLASSES"
   ]
  },
  {
   "cell_type": "code",
   "execution_count": 374,
   "metadata": {
    "execution": {
     "iopub.execute_input": "2025-06-24T16:17:49.181700Z",
     "iopub.status.busy": "2025-06-24T16:17:49.181493Z",
     "iopub.status.idle": "2025-06-24T16:17:49.228554Z",
     "shell.execute_reply": "2025-06-24T16:17:49.227734Z",
     "shell.execute_reply.started": "2025-06-24T16:17:49.181685Z"
    },
    "trusted": true
   },
   "outputs": [
    {
     "name": "stdout",
     "output_type": "stream",
     "text": [
      "--- Starting: Filtering, Class Weighting, and DataLoader Creation ---\n",
      "Original classes: ['angry', 'calm', 'disgust', 'fear', 'happy', 'neutral', 'sad', 'surprise']\n",
      "Found 'neutral' class at index: 5\n",
      "\n",
      "Calculating class weights on the new, filtered training data...\n",
      "New classes for weighting: ['angry', 'calm', 'disgust', 'fear', 'happy', 'sad', 'surprise']\n",
      "New class weights: [0.8622222 0.8584071 1.6869565 0.8584071 0.8622222 0.8584071 1.6869565]\n",
      "\n",
      "--- Sanity Check on Tensor Shapes ---\n",
      "Shape of X_train_tensor: torch.Size([4074, 223, 20])\n",
      "Shape of y_train_tensor: torch.Size([4074])\n",
      "\n",
      "--- DataLoaders and Class Weights created successfully with filtered data! ---\n",
      "New number of classes for model: 7\n"
     ]
    }
   ],
   "source": [
    "# --- This cell performs all post-loading data preparation ---\n",
    "print(\"--- Starting: Filtering, Class Weighting, and DataLoader Creation ---\")\n",
    "\n",
    "# --- Step 1: Find the index of the 'neutral' class ---\n",
    "class_names = list(le.classes_)\n",
    "try:\n",
    "    neutral_class_index = class_names.index('neutral')\n",
    "    print(f\"Original classes: {class_names}\")\n",
    "    print(f\"Found 'neutral' class at index: {neutral_class_index}\")\n",
    "except ValueError:\n",
    "    print(\"Error: 'neutral' class not found. No filtering will occur.\")\n",
    "    neutral_class_index = -1\n",
    "\n",
    "if neutral_class_index != -1:\n",
    "    # --- Step 2: Filter the training & validation data ---\n",
    "    # Convert one-hot to integer indices\n",
    "    y_train_indices = np.argmax(y_train_categorical, axis=1)\n",
    "    y_val_indices = np.argmax(y_val_categorical, axis=1)\n",
    "    \n",
    "    # Create boolean masks to exclude the 'neutral' class\n",
    "    train_mask = y_train_indices != neutral_class_index\n",
    "    val_mask = y_val_indices != neutral_class_index\n",
    "    \n",
    "    # Apply the masks\n",
    "    X_train_filtered = X_train_scaled[train_mask]\n",
    "    y_train_filtered_indices = y_train_indices[train_mask]\n",
    "    \n",
    "    X_val_filtered = X_val_scaled[val_mask]\n",
    "    y_val_filtered_indices = y_val_indices[val_mask]\n",
    "    \n",
    "    # --- Step 3: Remap the labels to be continuous (e.g., [0, 1, 2, 4, 5] -> [0, 1, 2, 3, 4]) ---\n",
    "    y_train_final_indices = np.array([label if label < neutral_class_index else label - 1 for label in y_train_filtered_indices])\n",
    "    y_val_final_indices = np.array([label if label < neutral_class_index else label - 1 for label in y_val_filtered_indices])\n",
    "    \n",
    "    # --- Step 4: Update the label encoder for future use (e.g., classification reports) ---\n",
    "    le.classes_ = np.delete(le.classes_, neutral_class_index)\n",
    "    \n",
    "else:\n",
    "    # If neutral was not found, just use the original data without changes\n",
    "    print(\"Proceeding without filtering.\")\n",
    "    X_train_filtered = X_train_scaled\n",
    "    X_val_filtered = X_val_scaled\n",
    "    y_train_final_indices = np.argmax(y_train_categorical, axis=1) # This is the variable you need\n",
    "    y_val_final_indices = np.argmax(y_val_categorical, axis=1)\n",
    "\n",
    "# At this point, y_train_final_indices is the CORRECT array to use for class weights.\n",
    "# Let's rename it to 'y_train' for clarity and standard practice.\n",
    "y_train = y_train_final_indices\n",
    "\n",
    "# --- Step 5: Calculate new class weights on the FILTERED training data ---\n",
    "print(\"\\nCalculating class weights on the new, filtered training data...\")\n",
    "class_weights = compute_class_weight(\n",
    "    class_weight='balanced',\n",
    "    classes=np.unique(y_train),\n",
    "    y=y_train  # Using the newly created, filtered, and remapped y_train\n",
    ")\n",
    "weights_tensor = torch.tensor(class_weights, dtype=torch.float).to(device)\n",
    "\n",
    "print(f\"New classes for weighting: {list(le.classes_)}\")\n",
    "print(f\"New class weights: {weights_tensor.cpu().numpy()}\")\n",
    "\n",
    "# --- Step 6: Create PyTorch Tensors from the FINAL filtered and remapped arrays ---\n",
    "X_train_tensor = torch.from_numpy(X_train_filtered).float()\n",
    "X_val_tensor = torch.from_numpy(X_val_filtered).float()\n",
    "\n",
    "y_train_tensor = torch.from_numpy(y_train_final_indices).long()\n",
    "y_val_tensor = torch.from_numpy(y_val_final_indices).long()\n",
    "\n",
    "# --- Final Sanity Check ---\n",
    "print(\"\\n--- Sanity Check on Tensor Shapes ---\")\n",
    "print(f\"Shape of X_train_tensor: {X_train_tensor.shape}\")\n",
    "print(f\"Shape of y_train_tensor: {y_train_tensor.shape}\")\n",
    "\n",
    "# --- Step 7: Create TensorDatasets and DataLoaders ---\n",
    "BATCH_SIZE = 32\n",
    "\n",
    "train_dataset = TensorDataset(X_train_tensor, y_train_tensor)\n",
    "train_loader = DataLoader(train_dataset, batch_size=BATCH_SIZE, shuffle=True)\n",
    "\n",
    "val_dataset = TensorDataset(X_val_tensor, y_val_tensor)\n",
    "val_loader = DataLoader(val_dataset, batch_size=BATCH_SIZE, shuffle=False)\n",
    "\n",
    "print(\"\\n--- DataLoaders and Class Weights created successfully with filtered data! ---\")\n",
    "\n",
    "# You will use this in your model definition\n",
    "NUM_CLASSES_NEW = len(le.classes_)\n",
    "print(f\"New number of classes for model: {NUM_CLASSES_NEW}\")"
   ]
  },
  {
   "cell_type": "code",
   "execution_count": 376,
   "metadata": {
    "execution": {
     "iopub.execute_input": "2025-06-24T16:17:49.236082Z",
     "iopub.status.busy": "2025-06-24T16:17:49.235831Z",
     "iopub.status.idle": "2025-06-24T16:17:49.249907Z",
     "shell.execute_reply": "2025-06-24T16:17:49.249343Z",
     "shell.execute_reply.started": "2025-06-24T16:17:49.236065Z"
    },
    "trusted": true
   },
   "outputs": [],
   "source": [
    "NUM_CLASSES=len(le.classes_)"
   ]
  },
  {
   "cell_type": "code",
   "execution_count": 377,
   "metadata": {
    "execution": {
     "iopub.execute_input": "2025-06-24T16:17:49.250931Z",
     "iopub.status.busy": "2025-06-24T16:17:49.250618Z",
     "iopub.status.idle": "2025-06-24T16:17:49.267186Z",
     "shell.execute_reply": "2025-06-24T16:17:49.266659Z",
     "shell.execute_reply.started": "2025-06-24T16:17:49.250916Z"
    },
    "trusted": true
   },
   "outputs": [
    {
     "data": {
      "text/plain": [
       "7"
      ]
     },
     "execution_count": 377,
     "metadata": {},
     "output_type": "execute_result"
    }
   ],
   "source": [
    "NUM_CLASSES"
   ]
  },
  {
   "cell_type": "code",
   "execution_count": 378,
   "metadata": {
    "execution": {
     "iopub.execute_input": "2025-06-24T16:17:49.268151Z",
     "iopub.status.busy": "2025-06-24T16:17:49.267899Z",
     "iopub.status.idle": "2025-06-24T16:17:49.283575Z",
     "shell.execute_reply": "2025-06-24T16:17:49.282730Z",
     "shell.execute_reply.started": "2025-06-24T16:17:49.268133Z"
    },
    "trusted": true
   },
   "outputs": [
    {
     "name": "stdout",
     "output_type": "stream",
     "text": [
      "Using device: cuda\n"
     ]
    }
   ],
   "source": [
    "# --- 1. Setup and Data Loading ---\n",
    "# Check for GPU and set device\n",
    "device = torch.device(\"cuda\" if torch.cuda.is_available() else \"cpu\")\n",
    "print(f\"Using device: {device}\")\n"
   ]
  },
  {
   "cell_type": "code",
   "execution_count": 379,
   "metadata": {
    "execution": {
     "iopub.execute_input": "2025-06-24T16:17:49.286375Z",
     "iopub.status.busy": "2025-06-24T16:17:49.286141Z",
     "iopub.status.idle": "2025-06-24T16:17:49.308219Z",
     "shell.execute_reply": "2025-06-24T16:17:49.307657Z",
     "shell.execute_reply.started": "2025-06-24T16:17:49.286361Z"
    },
    "trusted": true
   },
   "outputs": [],
   "source": [
    "# Create TensorDatasets and DataLoaders\n",
    "BATCH_SIZE = 32\n",
    "\n",
    "train_dataset = TensorDataset(X_train_tensor, y_train_tensor)\n",
    "train_loader = DataLoader(train_dataset, batch_size=BATCH_SIZE, shuffle=True)\n",
    "\n",
    "val_dataset = TensorDataset(X_val_tensor, y_val_tensor)\n",
    "val_loader = DataLoader(val_dataset, batch_size=BATCH_SIZE, shuffle=False)\n"
   ]
  },
  {
   "cell_type": "code",
   "execution_count": 380,
   "metadata": {
    "execution": {
     "iopub.execute_input": "2025-06-24T16:17:49.308877Z",
     "iopub.status.busy": "2025-06-24T16:17:49.308719Z",
     "iopub.status.idle": "2025-06-24T16:17:49.326250Z",
     "shell.execute_reply": "2025-06-24T16:17:49.325715Z",
     "shell.execute_reply.started": "2025-06-24T16:17:49.308865Z"
    },
    "trusted": true
   },
   "outputs": [],
   "source": [
    "import torch\n",
    "import torch.nn as nn\n",
    "import torch.nn.functional as F\n",
    "\n",
    "class LuongAttention(nn.Module):\n",
    "    def __init__(self):\n",
    "        super(LuongAttention, self).__init__()\n",
    "\n",
    "    def forward(self, lstm_outputs, last_hidden):\n",
    "        \"\"\"\n",
    "        Args:\n",
    "            lstm_outputs (torch.Tensor): The output of the LSTM for all time steps.\n",
    "                                         Shape: (batch_size, seq_len, hidden_size * 2)\n",
    "            last_hidden (torch.Tensor): The final hidden state of the LSTM.\n",
    "                                        Shape: (batch_size, hidden_size * 2)\n",
    "        \"\"\"\n",
    "        # 1. Calculate Alignment Scores (dot product)\n",
    "        # We need to match the last_hidden state with all lstm_outputs.\n",
    "        # Unsqueeze last_hidden to make it (batch_size, hidden_size * 2, 1) for batch matrix multiplication.\n",
    "        last_hidden_unsqueezed = last_hidden.unsqueeze(2)\n",
    "        \n",
    "        # Batch matrix multiplication: (batch, seq_len, hidden_dim) @ (batch, hidden_dim, 1) -> (batch, seq_len, 1)\n",
    "        alignment_scores = torch.bmm(lstm_outputs, last_hidden_unsqueezed).squeeze(2)\n",
    "        \n",
    "        # 2. Turn Scores into Weights (Softmax)\n",
    "        # Apply softmax to get a probability distribution over the time steps.\n",
    "        attn_weights = F.softmax(alignment_scores, dim=1)\n",
    "        \n",
    "        # 3. Create the Context Vector\n",
    "        # Unsqueeze the weights to (batch_size, 1, seq_len) for batch matrix multiplication\n",
    "        attn_weights_unsqueezed = attn_weights.unsqueeze(1)\n",
    "        \n",
    "        # Batch matrix multiplication: (batch, 1, seq_len) @ (batch, seq_len, hidden_dim) -> (batch, 1, hidden_dim)\n",
    "        context_vector = torch.bmm(attn_weights_unsqueezed, lstm_outputs).squeeze(1)\n",
    "        \n",
    "        # Return both the context vector for classification and the weights for visualization\n",
    "        return context_vector, attn_weights"
   ]
  },
  {
   "cell_type": "code",
   "execution_count": 381,
   "metadata": {
    "execution": {
     "iopub.execute_input": "2025-06-24T16:17:49.327344Z",
     "iopub.status.busy": "2025-06-24T16:17:49.327048Z",
     "iopub.status.idle": "2025-06-24T16:17:49.348929Z",
     "shell.execute_reply": "2025-06-24T16:17:49.348441Z",
     "shell.execute_reply.started": "2025-06-24T16:17:49.327321Z"
    },
    "trusted": true
   },
   "outputs": [],
   "source": [
    "class CNN_LSTM_Attention_Model(nn.Module):\n",
    "    def __init__(self, num_features, num_classes, lstm_hidden_size=128, lstm_layers=2):\n",
    "        super(CNN_LSTM_Attention_Model, self).__init__()\n",
    "        \n",
    "        # --- CNN Part (same as before) ---\n",
    "        self.cnn = nn.Sequential(\n",
    "            nn.Conv1d(in_channels=num_features, out_channels=64, kernel_size=3, padding=1),\n",
    "            nn.BatchNorm1d(64),\n",
    "            nn.ReLU(),\n",
    "            nn.MaxPool1d(kernel_size=2),\n",
    "            nn.Conv1d(in_channels=64, out_channels=128, kernel_size=3, padding=1),\n",
    "            nn.BatchNorm1d(128),\n",
    "            nn.ReLU(),\n",
    "            nn.MaxPool1d(kernel_size=2)\n",
    "        )\n",
    "        \n",
    "        # --- LSTM Part (same as before, but pay attention to hidden_size) ---\n",
    "        self.lstm_hidden_size = lstm_hidden_size\n",
    "        self.lstm = nn.LSTM(\n",
    "            input_size=128, \n",
    "            hidden_size=self.lstm_hidden_size,\n",
    "            num_layers=lstm_layers,\n",
    "            batch_first=True,\n",
    "            dropout=0.5,\n",
    "            bidirectional=True\n",
    "        )\n",
    "        \n",
    "        # --- ATTENTION Part (The New Addition) ---\n",
    "        self.attention = LuongAttention()\n",
    "        \n",
    "        # --- Classifier Head ---\n",
    "        # The input to the linear layer will be a combination of the\n",
    "        # final hidden state and the attention context vector.\n",
    "        # Each is (hidden_size * 2) because of bidirectional LSTM.\n",
    "        # So we concatenate them to get a size of (hidden_size * 2) * 2\n",
    "        self.fc = nn.Linear(self.lstm_hidden_size * 4, num_classes)\n",
    "        self.dropout = nn.Dropout(0.5)\n",
    "\n",
    "    def forward(self, x):\n",
    "        # x shape: (batch_size, sequence_length, num_features)\n",
    "        \n",
    "        x = x.permute(0, 2, 1)\n",
    "        x_cnn = self.cnn(x)\n",
    "        x_cnn = x_cnn.permute(0, 2, 1)\n",
    "        \n",
    "        # Get LSTM outputs and the final hidden/cell states\n",
    "        lstm_outputs, (hidden, cell) = self.lstm(x_cnn)\n",
    "        \n",
    "        # Create the final hidden state by concatenating the last forward and backward states\n",
    "        # hidden shape: (num_layers * 2, batch_size, hidden_size)\n",
    "        last_hidden = torch.cat((hidden[-2,:,:], hidden[-1,:,:]), dim=1)\n",
    "        \n",
    "        # --- Apply Attention ---\n",
    "        context_vector, attn_weights = self.attention(lstm_outputs, last_hidden)\n",
    "        \n",
    "        # --- Combine and Classify ---\n",
    "        # Create a new vector by concatenating the context and the final hidden state\n",
    "        combined_vector = torch.cat((last_hidden, context_vector), dim=1)\n",
    "        \n",
    "        # Pass through the classifier\n",
    "        x = self.dropout(combined_vector)\n",
    "        logits = self.fc(x)\n",
    "        \n",
    "        return logits"
   ]
  },
  {
   "cell_type": "code",
   "execution_count": 382,
   "metadata": {
    "execution": {
     "iopub.execute_input": "2025-06-24T16:17:49.350036Z",
     "iopub.status.busy": "2025-06-24T16:17:49.349713Z",
     "iopub.status.idle": "2025-06-24T16:17:49.376183Z",
     "shell.execute_reply": "2025-06-24T16:17:49.375644Z",
     "shell.execute_reply.started": "2025-06-24T16:17:49.349997Z"
    },
    "trusted": true
   },
   "outputs": [],
   "source": [
    "class EarlyStopping:\n",
    "    def __init__(self, patience=5, verbose=False, delta=0, path='checkpoint.pt'):\n",
    "        self.patience = patience\n",
    "        self.verbose = verbose\n",
    "        self.counter = 0\n",
    "        self.best_score = None\n",
    "        self.early_stop = False\n",
    "        self.val_loss_min = np.Inf\n",
    "        self.delta = delta\n",
    "        self.path = path\n",
    "\n",
    "    def __call__(self, val_loss, model):\n",
    "        score = -val_loss\n",
    "        if self.best_score is None:\n",
    "            self.best_score = score\n",
    "            self.save_checkpoint(val_loss, model)\n",
    "        elif score < self.best_score + self.delta:\n",
    "            self.counter += 1\n",
    "            if self.verbose:\n",
    "                print(f'EarlyStopping counter: {self.counter} out of {self.patience}')\n",
    "            if self.counter >= self.patience:\n",
    "                self.early_stop = True\n",
    "        else:\n",
    "            self.best_score = score\n",
    "            self.save_checkpoint(val_loss, model)\n",
    "            self.counter = 0\n",
    "\n",
    "    def save_checkpoint(self, val_loss, model):\n",
    "        if self.verbose:\n",
    "            print(f'Validation loss decreased ({self.val_loss_min:.6f} --> {val_loss:.6f}).  Saving model ...')\n",
    "        torch.save(model.state_dict(), self.path)\n",
    "        self.val_loss_min = val_loss"
   ]
  },
  {
   "cell_type": "code",
   "execution_count": null,
   "metadata": {
    "execution": {
     "iopub.execute_input": "2025-06-24T16:17:49.397818Z",
     "iopub.status.busy": "2025-06-24T16:17:49.397530Z",
     "iopub.status.idle": "2025-06-24T16:17:49.424276Z",
     "shell.execute_reply": "2025-06-24T16:17:49.423507Z",
     "shell.execute_reply.started": "2025-06-24T16:17:49.397791Z"
    },
    "trusted": true
   },
   "outputs": [
    {
     "name": "stdout",
     "output_type": "stream",
     "text": [
      "--- Starting training with the new CNN+LSTM+Attention model ---\n"
     ]
    }
   ],
   "source": [
    "\n",
    "# --- Get required dimensions ---\n",
    "NUM_FEATURES = X_train_tensor.shape[2]\n",
    "\n",
    "# --- Instantiate the NEW Attention model ---\n",
    "model = CNN_LSTM_Attention_Model(\n",
    "    num_features=NUM_FEATURES,\n",
    "    num_classes=NUM_CLASSES,\n",
    "    lstm_hidden_size=128 # 128 is a great starting point\n",
    ").to(device)\n",
    "# --- Define Optimizer and Loss Function ---\n",
    "EPOCHS=50\n",
    "LEARNING_RATE = 0.001\n",
    "# Start with a moderate weight decay. Attention models can still overfit.\n",
    "optimizer = optim.Adam(model.parameters(), lr=LEARNING_RATE, weight_decay=1e-4) \n",
    "\n",
    "# NO class weights, as requested\n",
    "criterion = nn.CrossEntropyLoss()\n",
    "early_stopper = EarlyStopping(patience=5, verbose=True, path='checkpoint_attention.pt')\n",
    "\n",
    "print(\"--- Starting training with the new CNN+LSTM+Attention model ---\")\n",
    "# Now, run your existing training loop with this new setup. No other changes are needed."
   ]
  },
  {
   "cell_type": "code",
   "execution_count": 385,
   "metadata": {
    "execution": {
     "iopub.execute_input": "2025-06-24T16:17:49.425233Z",
     "iopub.status.busy": "2025-06-24T16:17:49.424994Z",
     "iopub.status.idle": "2025-06-24T16:18:07.535518Z",
     "shell.execute_reply": "2025-06-24T16:18:07.534679Z",
     "shell.execute_reply.started": "2025-06-24T16:17:49.425212Z"
    },
    "trusted": true
   },
   "outputs": [
    {
     "name": "stdout",
     "output_type": "stream",
     "text": [
      "\n",
      "--- Starting Training ---\n",
      "Epoch: 1/50 | Train Loss: 1.7412 | Train Acc: 0.2590 | Val Loss: 1.6807 | Val Acc: 0.3068\n",
      "Validation loss decreased (inf --> 1.680662).  Saving model ...\n",
      "Epoch: 2/50 | Train Loss: 1.5380 | Train Acc: 0.3554 | Val Loss: 1.4050 | Val Acc: 0.4172\n",
      "Validation loss decreased (1.680662 --> 1.405006).  Saving model ...\n",
      "Epoch: 3/50 | Train Loss: 1.4306 | Train Acc: 0.4291 | Val Loss: 1.3131 | Val Acc: 0.4923\n",
      "Validation loss decreased (1.405006 --> 1.313065).  Saving model ...\n",
      "Epoch: 4/50 | Train Loss: 1.3420 | Train Acc: 0.4651 | Val Loss: 1.1578 | Val Acc: 0.5673\n",
      "Validation loss decreased (1.313065 --> 1.157844).  Saving model ...\n",
      "Epoch: 5/50 | Train Loss: 1.2589 | Train Acc: 0.4983 | Val Loss: 1.1603 | Val Acc: 0.5651\n",
      "EarlyStopping counter: 1 out of 5\n",
      "Epoch: 6/50 | Train Loss: 1.1689 | Train Acc: 0.5346 | Val Loss: 1.0556 | Val Acc: 0.5916\n",
      "Validation loss decreased (1.157844 --> 1.055581).  Saving model ...\n",
      "Epoch: 7/50 | Train Loss: 1.0917 | Train Acc: 0.5788 | Val Loss: 0.9813 | Val Acc: 0.6137\n",
      "Validation loss decreased (1.055581 --> 0.981252).  Saving model ...\n",
      "Epoch: 8/50 | Train Loss: 1.0004 | Train Acc: 0.6129 | Val Loss: 0.9731 | Val Acc: 0.6402\n",
      "Validation loss decreased (0.981252 --> 0.973125).  Saving model ...\n",
      "Epoch: 9/50 | Train Loss: 0.9131 | Train Acc: 0.6608 | Val Loss: 1.0115 | Val Acc: 0.6358\n",
      "EarlyStopping counter: 1 out of 5\n",
      "Epoch: 10/50 | Train Loss: 0.8949 | Train Acc: 0.6708 | Val Loss: 0.8504 | Val Acc: 0.6932\n",
      "Validation loss decreased (0.973125 --> 0.850428).  Saving model ...\n",
      "Epoch: 11/50 | Train Loss: 0.7954 | Train Acc: 0.6951 | Val Loss: 0.7920 | Val Acc: 0.7108\n",
      "Validation loss decreased (0.850428 --> 0.791969).  Saving model ...\n",
      "Epoch: 12/50 | Train Loss: 0.7421 | Train Acc: 0.7202 | Val Loss: 0.8320 | Val Acc: 0.6865\n",
      "EarlyStopping counter: 1 out of 5\n",
      "Epoch: 13/50 | Train Loss: 0.6907 | Train Acc: 0.7450 | Val Loss: 0.7596 | Val Acc: 0.7351\n",
      "Validation loss decreased (0.791969 --> 0.759602).  Saving model ...\n",
      "Epoch: 14/50 | Train Loss: 0.6280 | Train Acc: 0.7703 | Val Loss: 1.1397 | Val Acc: 0.6115\n",
      "EarlyStopping counter: 1 out of 5\n",
      "Epoch: 15/50 | Train Loss: 0.5916 | Train Acc: 0.7838 | Val Loss: 0.8789 | Val Acc: 0.7174\n",
      "EarlyStopping counter: 2 out of 5\n",
      "Epoch: 16/50 | Train Loss: 0.5702 | Train Acc: 0.7889 | Val Loss: 0.7478 | Val Acc: 0.7483\n",
      "Validation loss decreased (0.759602 --> 0.747821).  Saving model ...\n",
      "Epoch: 17/50 | Train Loss: 0.5019 | Train Acc: 0.8120 | Val Loss: 0.8673 | Val Acc: 0.7130\n",
      "EarlyStopping counter: 1 out of 5\n",
      "Epoch: 18/50 | Train Loss: 0.4646 | Train Acc: 0.8238 | Val Loss: 0.8190 | Val Acc: 0.7152\n",
      "EarlyStopping counter: 2 out of 5\n",
      "Epoch: 19/50 | Train Loss: 0.4612 | Train Acc: 0.8358 | Val Loss: 0.7874 | Val Acc: 0.7329\n",
      "EarlyStopping counter: 3 out of 5\n",
      "Epoch: 20/50 | Train Loss: 0.4251 | Train Acc: 0.8451 | Val Loss: 0.8289 | Val Acc: 0.7439\n",
      "EarlyStopping counter: 4 out of 5\n",
      "Epoch: 21/50 | Train Loss: 0.4499 | Train Acc: 0.8375 | Val Loss: 0.7925 | Val Acc: 0.7461\n",
      "EarlyStopping counter: 5 out of 5\n",
      "Early stopping triggered\n"
     ]
    }
   ],
   "source": [
    "print(\"\\n--- Starting Training ---\")\n",
    "for epoch in range(1, EPOCHS + 1):\n",
    "    # --- Training Phase ---\n",
    "    model.train()\n",
    "    running_loss = 0.0\n",
    "    correct_train = 0\n",
    "    total_train = 0\n",
    "    \n",
    "    for inputs, labels in train_loader:\n",
    "        inputs, labels = inputs.to(device), labels.to(device)\n",
    "        \n",
    "        optimizer.zero_grad()\n",
    "        \n",
    "        outputs = model(inputs)\n",
    "        loss = criterion(outputs, labels)\n",
    "        \n",
    "        loss.backward()\n",
    "        optimizer.step()\n",
    "        \n",
    "        running_loss += loss.item() * inputs.size(0)\n",
    "        \n",
    "        _, predicted = torch.max(outputs.data, 1)\n",
    "        total_train += labels.size(0)\n",
    "        correct_train += (predicted == labels).sum().item()\n",
    "\n",
    "    train_loss = running_loss / len(train_loader.dataset)\n",
    "    train_acc = correct_train / total_train\n",
    "\n",
    "    # --- Validation Phase ---\n",
    "    model.eval()\n",
    "    val_loss = 0.0\n",
    "    correct_val = 0\n",
    "    total_val = 0\n",
    "    \n",
    "    with torch.no_grad():\n",
    "        for inputs, labels in val_loader:\n",
    "            inputs, labels = inputs.to(device), labels.to(device)\n",
    "            \n",
    "            outputs = model(inputs)\n",
    "            loss = criterion(outputs, labels)\n",
    "            \n",
    "            val_loss += loss.item() * inputs.size(0)\n",
    "            \n",
    "            _, predicted = torch.max(outputs.data, 1)\n",
    "            total_val += labels.size(0)\n",
    "            correct_val += (predicted == labels).sum().item()\n",
    "\n",
    "    avg_val_loss = val_loss / len(val_loader.dataset)\n",
    "    val_acc = correct_val / total_val\n",
    "    \n",
    "    print(f\"Epoch: {epoch}/{EPOCHS} | \"\n",
    "          f\"Train Loss: {train_loss:.4f} | Train Acc: {train_acc:.4f} | \"\n",
    "          f\"Val Loss: {avg_val_loss:.4f} | Val Acc: {val_acc:.4f}\")\n",
    "    \n",
    "    # Early stopping call\n",
    "    early_stopper(avg_val_loss, model)\n",
    "    if early_stopper.early_stop:\n",
    "        print(\"Early stopping triggered\")\n",
    "        break"
   ]
  },
  {
   "cell_type": "code",
   "execution_count": 386,
   "metadata": {
    "execution": {
     "iopub.execute_input": "2025-06-24T16:18:07.536635Z",
     "iopub.status.busy": "2025-06-24T16:18:07.536359Z",
     "iopub.status.idle": "2025-06-24T16:18:07.548732Z",
     "shell.execute_reply": "2025-06-24T16:18:07.547939Z",
     "shell.execute_reply.started": "2025-06-24T16:18:07.536610Z"
    },
    "trusted": true
   },
   "outputs": [
    {
     "name": "stdout",
     "output_type": "stream",
     "text": [
      "\n",
      "--- Training Finished ---\n",
      "Best model weights loaded for final evaluation.\n"
     ]
    }
   ],
   "source": [
    "# --- Post-Training ---\n",
    "print(\"\\n--- Training Finished ---\")\n",
    "# Load the best model weights found during training\n",
    "model.load_state_dict(torch.load('checkpoint_attention.pt'))\n",
    "print(\"Best model weights loaded for final evaluation.\")"
   ]
  },
  {
   "cell_type": "code",
   "execution_count": 387,
   "metadata": {
    "execution": {
     "iopub.execute_input": "2025-06-24T16:18:07.549769Z",
     "iopub.status.busy": "2025-06-24T16:18:07.549521Z",
     "iopub.status.idle": "2025-06-24T16:18:07.570114Z",
     "shell.execute_reply": "2025-06-24T16:18:07.569519Z",
     "shell.execute_reply.started": "2025-06-24T16:18:07.549743Z"
    },
    "trusted": true
   },
   "outputs": [],
   "source": [
    "from sklearn.metrics import classification_report, confusion_matrix\n",
    "import seaborn as sns\n",
    "import matplotlib.pyplot as plt"
   ]
  },
  {
   "cell_type": "code",
   "execution_count": 388,
   "metadata": {
    "execution": {
     "iopub.execute_input": "2025-06-24T16:18:07.571502Z",
     "iopub.status.busy": "2025-06-24T16:18:07.570878Z",
     "iopub.status.idle": "2025-06-24T16:18:07.916360Z",
     "shell.execute_reply": "2025-06-24T16:18:07.915611Z",
     "shell.execute_reply.started": "2025-06-24T16:18:07.571479Z"
    },
    "trusted": true
   },
   "outputs": [
    {
     "name": "stdout",
     "output_type": "stream",
     "text": [
      "\n",
      "--- Generating Classification Report for Validation Set ---\n",
      "\n",
      "Classification Report:\n",
      "              precision    recall  f1-score   support\n",
      "\n",
      "       angry       0.77      0.95      0.85        76\n",
      "        calm       0.74      0.92      0.82        75\n",
      "     disgust       0.72      0.61      0.66        38\n",
      "        fear       0.71      0.61      0.66        75\n",
      "       happy       0.82      0.71      0.76        76\n",
      "         sad       0.78      0.61      0.69        75\n",
      "    surprise       0.66      0.76      0.71        38\n",
      "\n",
      "    accuracy                           0.75       453\n",
      "   macro avg       0.74      0.74      0.73       453\n",
      "weighted avg       0.75      0.75      0.74       453\n",
      "\n",
      "\n",
      "Confusion Matrix:\n"
     ]
    },
    {
     "data": {
      "image/png": "[encoded data removed]",
      "text/plain": [
       "<Figure size 1000x800 with 2 Axes>"
      ]
     },
     "metadata": {},
     "output_type": "display_data"
    }
   ],
   "source": [
    "# --- 5. Evaluate the Final Model on the Validation Set ---\n",
    "print(\"\\n--- Generating Classification Report for Validation Set ---\")\n",
    "\n",
    "# Put the model in evaluation mode\n",
    "model.eval()\n",
    "\n",
    "# Store predictions and true labels\n",
    "all_preds = []\n",
    "all_labels = []\n",
    "\n",
    "# No need to track gradients for evaluation\n",
    "with torch.no_grad():\n",
    "    for inputs, labels in val_loader:\n",
    "        inputs, labels = inputs.to(device), labels.to(device)\n",
    "        \n",
    "        outputs = model(inputs)\n",
    "        \n",
    "        # Get the predicted class (the one with the highest probability)\n",
    "        _, predicted = torch.max(outputs.data, 1)\n",
    "        \n",
    "        # Append batch predictions and labels to the lists\n",
    "        all_preds.extend(predicted.cpu().numpy())\n",
    "        all_labels.extend(labels.cpu().numpy())\n",
    "\n",
    "# Get the class names from the label encoder\n",
    "class_names = le.classes_\n",
    "\n",
    "# Print the classification report\n",
    "print(\"\\nClassification Report:\")\n",
    "print(classification_report(all_labels, all_preds, target_names=class_names))\n",
    "\n",
    "\n",
    "# --- (Optional but Recommended) Visualize the Confusion Matrix ---\n",
    "print(\"\\nConfusion Matrix:\")\n",
    "cm = confusion_matrix(all_labels, all_preds)\n",
    "cm_df = pd.DataFrame(cm, index=class_names, columns=class_names)\n",
    "\n",
    "plt.figure(figsize=(10, 8))\n",
    "sns.heatmap(cm_df, annot=True, fmt='d', cmap='Blues')\n",
    "plt.title('Confusion Matrix for Validation Set')\n",
    "plt.ylabel('Actual Label')\n",
    "plt.xlabel('Predicted Label')\n",
    "plt.show()"
   ]
  },
  {
   "cell_type": "code",
   "execution_count": null,
   "metadata": {
    "trusted": true
   },
   "outputs": [],
   "source": []
  }
 ],
 "metadata": {
  "kaggle": {
   "accelerator": "nvidiaTeslaT4",
   "dataSources": [
    {
     "datasetId": 7732279,
     "sourceId": 12270311,
     "sourceType": "datasetVersion"
    }
   ],
   "dockerImageVersionId": 31041,
   "isGpuEnabled": true,
   "isInternetEnabled": true,
   "language": "python",
   "sourceType": "notebook"
  },
  "kernelspec": {
   "display_name": "Python 3",
   "language": "python",
   "name": "python3"
  },
  "language_info": {
   "codemirror_mode": {
    "name": "ipython",
    "version": 3
   },
   "file_extension": ".py",
   "mimetype": "text/x-python",
   "name": "python",
   "nbconvert_exporter": "python",
   "pygments_lexer": "ipython3",
   "version": "3.11.11"
  }
 },
 "nbformat": 4,
 "nbformat_minor": 4
}

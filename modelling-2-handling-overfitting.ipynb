{
 "cells": [
  {
   "cell_type": "code",
   "execution_count": 75,
   "metadata": {
    "_cell_guid": "b1076dfc-b9ad-4769-8c92-a6c4dae69d19",
    "_uuid": "8f2839f25d086af736a60e9eeb907d3b93b6e0e5",
    "execution": {
     "iopub.execute_input": "2025-06-24T14:31:53.295275Z",
     "iopub.status.busy": "2025-06-24T14:31:53.294898Z",
     "iopub.status.idle": "2025-06-24T14:31:53.304415Z",
     "shell.execute_reply": "2025-06-24T14:31:53.303840Z",
     "shell.execute_reply.started": "2025-06-24T14:31:53.295251Z"
    },
    "trusted": true
   },
   "outputs": [
    {
     "name": "stdout",
     "output_type": "stream",
     "text": [
      "/kaggle/input/audio-dataset-new-2/label_encoder.joblib\n",
      "/kaggle/input/audio-dataset-new-2/scaler.joblib\n",
      "/kaggle/input/audio-dataset-new-2/audio_data_processed.npz\n"
     ]
    }
   ],
   "source": [
    "# This Python 3 environment comes with many helpful analytics libraries installed\n",
    "# It is defined by the kaggle/python Docker image: https://github.com/kaggle/docker-python\n",
    "# For example, here's several helpful packages to load\n",
    "import torch\n",
    "import torch.nn as nn\n",
    "import torch.optim as optim\n",
    "from torch.utils.data import DataLoader, TensorDataset\n",
    "import numpy as np # linear algebra\n",
    "import pandas as pd # data processing, CSV file I/O (e.g. pd.read_csv)\n",
    "\n",
    "# Input data files are available in the read-only \"../input/\" directory\n",
    "# For example, running this (by clicking run or pressing Shift+Enter) will list all files under the input directory\n",
    "\n",
    "import os\n",
    "for dirname, _, filenames in os.walk('/kaggle/input'):\n",
    "    for filename in filenames:\n",
    "        print(os.path.join(dirname, filename))\n",
    "\n",
    "# You can write up to 20GB to the current directory (/kaggle/working/) that gets preserved as output when you create a version using \"Save & Run All\" \n",
    "# You can also write temporary files to /kaggle/temp/, but they won't be saved outside of the current session"
   ]
  },
  {
   "cell_type": "code",
   "execution_count": 76,
   "metadata": {
    "execution": {
     "iopub.execute_input": "2025-06-24T14:31:53.305822Z",
     "iopub.status.busy": "2025-06-24T14:31:53.305611Z",
     "iopub.status.idle": "2025-06-24T14:31:53.328129Z",
     "shell.execute_reply": "2025-06-24T14:31:53.327320Z",
     "shell.execute_reply.started": "2025-06-24T14:31:53.305800Z"
    },
    "trusted": true
   },
   "outputs": [],
   "source": [
    "from sklearn.utils.class_weight import compute_class_weight"
   ]
  },
  {
   "cell_type": "code",
   "execution_count": 77,
   "metadata": {
    "execution": {
     "iopub.execute_input": "2025-06-24T14:31:53.329336Z",
     "iopub.status.busy": "2025-06-24T14:31:53.329148Z",
     "iopub.status.idle": "2025-06-24T14:31:53.844822Z",
     "shell.execute_reply": "2025-06-24T14:31:53.844070Z",
     "shell.execute_reply.started": "2025-06-24T14:31:53.329322Z"
    },
    "trusted": true
   },
   "outputs": [
    {
     "name": "stdout",
     "output_type": "stream",
     "text": [
      "--- Data loading complete! ---\n",
      "Shape of X_train_scaled: (4410, 223, 20)\n",
      "Shape of y_train_categorical: (4410, 8)\n",
      "Shape of X_val_scaled: (491, 223, 20)\n",
      "Shape of y_val_categorical: (491, 8)\n",
      "\n",
      "Label Encoder classes (to interpret predictions):\n",
      "['angry' 'calm' 'disgust' 'fear' 'happy' 'neutral' 'sad' 'surprise']\n"
     ]
    },
    {
     "name": "stderr",
     "output_type": "stream",
     "text": [
      "/usr/local/lib/python3.11/dist-packages/sklearn/base.py:318: UserWarning: Trying to unpickle estimator StandardScaler from version 1.6.1 when using version 1.2.2. This might lead to breaking code or invalid results. Use at your own risk. For more info please refer to:\n",
      "https://scikit-learn.org/stable/model_persistence.html#security-maintainability-limitations\n",
      "  warnings.warn(\n",
      "/usr/local/lib/python3.11/dist-packages/sklearn/base.py:318: UserWarning: Trying to unpickle estimator LabelEncoder from version 1.6.1 when using version 1.2.2. This might lead to breaking code or invalid results. Use at your own risk. For more info please refer to:\n",
      "https://scikit-learn.org/stable/model_persistence.html#security-maintainability-limitations\n",
      "  warnings.warn(\n"
     ]
    }
   ],
   "source": [
    "import joblib\n",
    "# --- This code goes at the start of your Kaggle Notebook ---\n",
    "# --- 1. Define the path to your uploaded data ---\n",
    "# The path is usually /kaggle/input/your-dataset-name\n",
    "KAGGLE_INPUT_PATH = '/kaggle/input/audio-dataset-new-2' #<-- CHANGE THIS to your dataset name on Kaggle\n",
    "\n",
    "# --- 2. Load the NumPy arrays ---\n",
    "data_path = os.path.join(KAGGLE_INPUT_PATH, 'audio_data_processed.npz')\n",
    "data = np.load(data_path)\n",
    "\n",
    "# Extract each array from the loaded .npz file\n",
    "X_train_scaled = data['X_train']\n",
    "X_val_scaled = data['X_val']\n",
    "X_test_scaled = data['X_test']\n",
    "y_train_categorical = data['y_train']\n",
    "y_val_categorical = data['y_val']\n",
    "y_test_categorical = data['y_test']\n",
    "\n",
    "# --- 3. Load the preprocessing objects ---\n",
    "scaler_path = os.path.join(KAGGLE_INPUT_PATH, 'scaler.joblib')\n",
    "scaler = joblib.load(scaler_path)\n",
    "\n",
    "label_encoder_path = os.path.join(KAGGLE_INPUT_PATH, 'label_encoder.joblib')\n",
    "le = joblib.load(label_encoder_path)\n",
    "\n",
    "\n",
    "# --- 4. Verify that everything loaded correctly ---\n",
    "print(\"--- Data loading complete! ---\")\n",
    "print(f\"Shape of X_train_scaled: {X_train_scaled.shape}\")\n",
    "print(f\"Shape of y_train_categorical: {y_train_categorical.shape}\")\n",
    "print(f\"Shape of X_val_scaled: {X_val_scaled.shape}\")\n",
    "print(f\"Shape of y_val_categorical: {y_val_categorical.shape}\")\n",
    "print(\"\\nLabel Encoder classes (to interpret predictions):\")\n",
    "print(le.classes_)"
   ]
  },
  {
   "cell_type": "code",
   "execution_count": 78,
   "metadata": {
    "execution": {
     "iopub.execute_input": "2025-06-24T14:31:53.846008Z",
     "iopub.status.busy": "2025-06-24T14:31:53.845744Z",
     "iopub.status.idle": "2025-06-24T14:31:53.849849Z",
     "shell.execute_reply": "2025-06-24T14:31:53.849020Z",
     "shell.execute_reply.started": "2025-06-24T14:31:53.845985Z"
    },
    "trusted": true
   },
   "outputs": [],
   "source": [
    "NUM_CLASSES = len(le.classes_)"
   ]
  },
  {
   "cell_type": "code",
   "execution_count": 79,
   "metadata": {
    "execution": {
     "iopub.execute_input": "2025-06-24T14:31:53.852051Z",
     "iopub.status.busy": "2025-06-24T14:31:53.851685Z",
     "iopub.status.idle": "2025-06-24T14:31:53.867183Z",
     "shell.execute_reply": "2025-06-24T14:31:53.866395Z",
     "shell.execute_reply.started": "2025-06-24T14:31:53.852035Z"
    },
    "trusted": true
   },
   "outputs": [
    {
     "name": "stdout",
     "output_type": "stream",
     "text": [
      "Using device: cuda\n"
     ]
    }
   ],
   "source": [
    "# --- 1. Setup and Data Loading ---\n",
    "# Check for GPU and set device\n",
    "device = torch.device(\"cuda\" if torch.cuda.is_available() else \"cpu\")\n",
    "print(f\"Using device: {device}\")\n"
   ]
  },
  {
   "cell_type": "code",
   "execution_count": 80,
   "metadata": {
    "execution": {
     "iopub.execute_input": "2025-06-24T14:31:53.868265Z",
     "iopub.status.busy": "2025-06-24T14:31:53.867916Z",
     "iopub.status.idle": "2025-06-24T14:31:53.883472Z",
     "shell.execute_reply": "2025-06-24T14:31:53.882945Z",
     "shell.execute_reply.started": "2025-06-24T14:31:53.868240Z"
    },
    "trusted": true
   },
   "outputs": [],
   "source": [
    "# --- IMPORTANT: Convert labels for PyTorch ---\n",
    "# PyTorch's CrossEntropyLoss expects class indices (0, 1, 2, ...), not one-hot vectors.\n",
    "y_train = np.argmax(y_train_categorical, axis=1)\n",
    "y_val = np.argmax(y_val_categorical, axis=1)\n",
    "# y_test = np.argmax(y_test_categorical, axis=1)"
   ]
  },
  {
   "cell_type": "code",
   "execution_count": 81,
   "metadata": {
    "execution": {
     "iopub.execute_input": "2025-06-24T14:31:53.884249Z",
     "iopub.status.busy": "2025-06-24T14:31:53.884029Z",
     "iopub.status.idle": "2025-06-24T14:31:53.899686Z",
     "shell.execute_reply": "2025-06-24T14:31:53.898992Z",
     "shell.execute_reply.started": "2025-06-24T14:31:53.884236Z"
    },
    "trusted": true
   },
   "outputs": [],
   "source": [
    "# Convert NumPy arrays to PyTorch Tensors\n",
    "X_train_tensor = torch.from_numpy(X_train_scaled).float()\n",
    "y_train_tensor = torch.from_numpy(y_train).long()\n",
    "\n",
    "X_val_tensor = torch.from_numpy(X_val_scaled).float()\n",
    "y_val_tensor = torch.from_numpy(y_val).long()"
   ]
  },
  {
   "cell_type": "code",
   "execution_count": 82,
   "metadata": {
    "execution": {
     "iopub.execute_input": "2025-06-24T14:31:53.940984Z",
     "iopub.status.busy": "2025-06-24T14:31:53.940722Z",
     "iopub.status.idle": "2025-06-24T14:31:53.945752Z",
     "shell.execute_reply": "2025-06-24T14:31:53.945120Z",
     "shell.execute_reply.started": "2025-06-24T14:31:53.940968Z"
    },
    "trusted": true
   },
   "outputs": [],
   "source": [
    "# Create TensorDatasets and DataLoaders\n",
    "BATCH_SIZE = 32\n",
    "\n",
    "train_dataset = TensorDataset(X_train_tensor, y_train_tensor)\n",
    "train_loader = DataLoader(train_dataset, batch_size=BATCH_SIZE, shuffle=True)\n",
    "\n",
    "val_dataset = TensorDataset(X_val_tensor, y_val_tensor)\n",
    "val_loader = DataLoader(val_dataset, batch_size=BATCH_SIZE, shuffle=False)\n"
   ]
  },
  {
   "cell_type": "code",
   "execution_count": 83,
   "metadata": {
    "execution": {
     "iopub.execute_input": "2025-06-24T14:31:53.985562Z",
     "iopub.status.busy": "2025-06-24T14:31:53.985340Z",
     "iopub.status.idle": "2025-06-24T14:31:53.992293Z",
     "shell.execute_reply": "2025-06-24T14:31:53.991638Z",
     "shell.execute_reply.started": "2025-06-24T14:31:53.985546Z"
    },
    "trusted": true
   },
   "outputs": [],
   "source": [
    "\n",
    "class CNN_LSTM_Model(nn.Module):\n",
    "    def __init__(self, num_features, num_classes, lstm_hidden_size=128, lstm_layers=2):\n",
    "        super(CNN_LSTM_Model, self).__init__()\n",
    "        \n",
    "        # CNN part\n",
    "        # Input shape: (batch_size, num_features, sequence_length)\n",
    "        # We need to permute the input from (batch, seq_len, features) to fit this.\n",
    "        self.cnn = nn.Sequential(\n",
    "            nn.Conv1d(in_channels=num_features, out_channels=64, kernel_size=3, padding=1),\n",
    "            nn.BatchNorm1d(64),\n",
    "            nn.ReLU(),\n",
    "            nn.MaxPool1d(kernel_size=2),\n",
    "            \n",
    "            nn.Conv1d(in_channels=64, out_channels=128, kernel_size=3, padding=1),\n",
    "            nn.BatchNorm1d(128),\n",
    "            nn.ReLU(),\n",
    "            nn.MaxPool1d(kernel_size=2)\n",
    "        )\n",
    "        # The output of the CNN part will have channels=128. This becomes the input_size for the LSTM.\n",
    "        \n",
    "        # LSTM part\n",
    "        # Input shape: (batch_size, sequence_length, input_size)\n",
    "        self.lstm = nn.LSTM(\n",
    "            input_size=128, \n",
    "            hidden_size=lstm_hidden_size,\n",
    "            num_layers=lstm_layers,\n",
    "            batch_first=True, # This is crucial!\n",
    "            dropout=0.6, # Dropout between LSTM layers\n",
    "            bidirectional=True # Bidirectional often improves performance\n",
    "        )\n",
    "        \n",
    "        # Classifier Head\n",
    "        self.dropout = nn.Dropout(0.6)\n",
    "        # The input to the linear layer is lstm_hidden_size * 2 because it's bidirectional\n",
    "        self.fc = nn.Linear(lstm_hidden_size * 2, num_classes)\n",
    "\n",
    "    def forward(self, x):\n",
    "        # Input x has shape: (batch_size, sequence_length, num_features)\n",
    "        \n",
    "        # 1. Prepare for CNN: (batch_size, num_features, sequence_length)\n",
    "        x = x.permute(0, 2, 1)\n",
    "        \n",
    "        # 2. Pass through CNN\n",
    "        x_cnn = self.cnn(x)\n",
    "        \n",
    "        # 3. Prepare for LSTM: (batch_size, sequence_length, features)\n",
    "        x_cnn = x_cnn.permute(0, 2, 1)\n",
    "        \n",
    "        # 4. Pass through LSTM\n",
    "        # We only need the output of the LSTM, not the hidden states (h_n, c_n)\n",
    "        lstm_out, _ = self.lstm(x_cnn)\n",
    "        \n",
    "        # 5. Get the last hidden state for classification\n",
    "        # We use the output of the last time step\n",
    "        last_hidden_state = lstm_out[:, -1, :]\n",
    "        \n",
    "        # 6. Pass through the classifier\n",
    "        x = self.dropout(last_hidden_state)\n",
    "        logits = self.fc(x)\n",
    "        \n",
    "        return logits"
   ]
  },
  {
   "cell_type": "code",
   "execution_count": 84,
   "metadata": {
    "execution": {
     "iopub.execute_input": "2025-06-24T14:31:53.993785Z",
     "iopub.status.busy": "2025-06-24T14:31:53.993447Z",
     "iopub.status.idle": "2025-06-24T14:31:54.018516Z",
     "shell.execute_reply": "2025-06-24T14:31:54.017993Z",
     "shell.execute_reply.started": "2025-06-24T14:31:53.993763Z"
    },
    "trusted": true
   },
   "outputs": [],
   "source": [
    "class EarlyStopping:\n",
    "    def __init__(self, patience=5, verbose=False, delta=0, path='checkpoint.pt'):\n",
    "        self.patience = patience\n",
    "        self.verbose = verbose\n",
    "        self.counter = 0\n",
    "        self.best_score = None\n",
    "        self.early_stop = False\n",
    "        self.val_loss_min = np.Inf\n",
    "        self.delta = delta\n",
    "        self.path = path\n",
    "\n",
    "    def __call__(self, val_loss, model):\n",
    "        score = -val_loss\n",
    "        if self.best_score is None:\n",
    "            self.best_score = score\n",
    "            self.save_checkpoint(val_loss, model)\n",
    "        elif score < self.best_score + self.delta:\n",
    "            self.counter += 1\n",
    "            if self.verbose:\n",
    "                print(f'EarlyStopping counter: {self.counter} out of {self.patience}')\n",
    "            if self.counter >= self.patience:\n",
    "                self.early_stop = True\n",
    "        else:\n",
    "            self.best_score = score\n",
    "            self.save_checkpoint(val_loss, model)\n",
    "            self.counter = 0\n",
    "\n",
    "    def save_checkpoint(self, val_loss, model):\n",
    "        if self.verbose:\n",
    "            print(f'Validation loss decreased ({self.val_loss_min:.6f} --> {val_loss:.6f}).  Saving model ...')\n",
    "        torch.save(model.state_dict(), self.path)\n",
    "        self.val_loss_min = val_loss"
   ]
  },
  {
   "cell_type": "code",
   "execution_count": 85,
   "metadata": {
    "execution": {
     "iopub.execute_input": "2025-06-24T14:31:54.019293Z",
     "iopub.status.busy": "2025-06-24T14:31:54.019139Z",
     "iopub.status.idle": "2025-06-24T14:31:54.040838Z",
     "shell.execute_reply": "2025-06-24T14:31:54.040102Z",
     "shell.execute_reply.started": "2025-06-24T14:31:54.019281Z"
    },
    "trusted": true
   },
   "outputs": [],
   "source": [
    "# --- 4. Training and Validation Loop ---\n",
    "# Hyperparameters\n",
    "EPOCHS = 50\n",
    "LEARNING_RATE = 0.001\n",
    "NUM_FEATURES = X_train_scaled.shape[2] # Should be 20 for MFCCs\n"
   ]
  },
  {
   "cell_type": "code",
   "execution_count": 86,
   "metadata": {
    "execution": {
     "iopub.execute_input": "2025-06-24T14:31:54.042420Z",
     "iopub.status.busy": "2025-06-24T14:31:54.042231Z",
     "iopub.status.idle": "2025-06-24T14:31:54.067302Z",
     "shell.execute_reply": "2025-06-24T14:31:54.066795Z",
     "shell.execute_reply.started": "2025-06-24T14:31:54.042406Z"
    },
    "trusted": true
   },
   "outputs": [],
   "source": [
    "# Initialize model, loss, optimizer, and early stopper\n",
    "model = CNN_LSTM_Model(num_features=NUM_FEATURES, num_classes=NUM_CLASSES).to(device)\n",
    "criterion = nn.CrossEntropyLoss()\n",
    "optimizer = optim.Adam(model.parameters(), lr=LEARNING_RATE,weight_decay=1e-3)\n",
    "early_stopper = EarlyStopping(patience=5, verbose=True)\n"
   ]
  },
  {
   "cell_type": "code",
   "execution_count": 87,
   "metadata": {
    "execution": {
     "iopub.execute_input": "2025-06-24T14:31:54.068069Z",
     "iopub.status.busy": "2025-06-24T14:31:54.067884Z",
     "iopub.status.idle": "2025-06-24T14:32:38.170611Z",
     "shell.execute_reply": "2025-06-24T14:32:38.169671Z",
     "shell.execute_reply.started": "2025-06-24T14:31:54.068056Z"
    },
    "trusted": true
   },
   "outputs": [
    {
     "name": "stdout",
     "output_type": "stream",
     "text": [
      "\n",
      "--- Starting Training ---\n",
      "Epoch: 1/50 | Train Loss: 1.9830 | Train Acc: 0.1918 | Val Loss: 1.9258 | Val Acc: 0.2383\n",
      "Validation loss decreased (inf --> 1.925794).  Saving model ...\n",
      "Epoch: 2/50 | Train Loss: 1.9301 | Train Acc: 0.2125 | Val Loss: 1.9010 | Val Acc: 0.2301\n",
      "Validation loss decreased (1.925794 --> 1.901046).  Saving model ...\n",
      "Epoch: 3/50 | Train Loss: 1.9130 | Train Acc: 0.2286 | Val Loss: 1.8705 | Val Acc: 0.2424\n",
      "Validation loss decreased (1.901046 --> 1.870528).  Saving model ...\n",
      "Epoch: 4/50 | Train Loss: 1.8273 | Train Acc: 0.2644 | Val Loss: 1.6893 | Val Acc: 0.3442\n",
      "Validation loss decreased (1.870528 --> 1.689296).  Saving model ...\n",
      "Epoch: 5/50 | Train Loss: 1.6876 | Train Acc: 0.3215 | Val Loss: 1.6765 | Val Acc: 0.3483\n",
      "Validation loss decreased (1.689296 --> 1.676542).  Saving model ...\n",
      "Epoch: 6/50 | Train Loss: 1.6219 | Train Acc: 0.3365 | Val Loss: 1.5622 | Val Acc: 0.3992\n",
      "Validation loss decreased (1.676542 --> 1.562236).  Saving model ...\n",
      "Epoch: 7/50 | Train Loss: 1.5768 | Train Acc: 0.3535 | Val Loss: 1.5501 | Val Acc: 0.3646\n",
      "Validation loss decreased (1.562236 --> 1.550068).  Saving model ...\n",
      "Epoch: 8/50 | Train Loss: 1.5487 | Train Acc: 0.3537 | Val Loss: 1.5037 | Val Acc: 0.3870\n",
      "Validation loss decreased (1.550068 --> 1.503733).  Saving model ...\n",
      "Epoch: 9/50 | Train Loss: 1.5286 | Train Acc: 0.3776 | Val Loss: 1.4721 | Val Acc: 0.4053\n",
      "Validation loss decreased (1.503733 --> 1.472150).  Saving model ...\n",
      "Epoch: 10/50 | Train Loss: 1.4993 | Train Acc: 0.3864 | Val Loss: 1.4198 | Val Acc: 0.4196\n",
      "Validation loss decreased (1.472150 --> 1.419844).  Saving model ...\n",
      "Epoch: 11/50 | Train Loss: 1.4769 | Train Acc: 0.3878 | Val Loss: 1.3993 | Val Acc: 0.4236\n",
      "Validation loss decreased (1.419844 --> 1.399299).  Saving model ...\n",
      "Epoch: 12/50 | Train Loss: 1.4719 | Train Acc: 0.4007 | Val Loss: 1.3991 | Val Acc: 0.4134\n",
      "Validation loss decreased (1.399299 --> 1.399130).  Saving model ...\n",
      "Epoch: 13/50 | Train Loss: 1.4451 | Train Acc: 0.4204 | Val Loss: 1.5001 | Val Acc: 0.3910\n",
      "EarlyStopping counter: 1 out of 5\n",
      "Epoch: 14/50 | Train Loss: 1.4153 | Train Acc: 0.4286 | Val Loss: 1.3440 | Val Acc: 0.4623\n",
      "Validation loss decreased (1.399130 --> 1.344034).  Saving model ...\n",
      "Epoch: 15/50 | Train Loss: 1.3775 | Train Acc: 0.4497 | Val Loss: 1.3444 | Val Acc: 0.4786\n",
      "EarlyStopping counter: 1 out of 5\n",
      "Epoch: 16/50 | Train Loss: 1.3561 | Train Acc: 0.4664 | Val Loss: 1.3016 | Val Acc: 0.4623\n",
      "Validation loss decreased (1.344034 --> 1.301606).  Saving model ...\n",
      "Epoch: 17/50 | Train Loss: 1.3138 | Train Acc: 0.4732 | Val Loss: 1.3111 | Val Acc: 0.4644\n",
      "EarlyStopping counter: 1 out of 5\n",
      "Epoch: 18/50 | Train Loss: 1.2916 | Train Acc: 0.4796 | Val Loss: 1.2780 | Val Acc: 0.4868\n",
      "Validation loss decreased (1.301606 --> 1.278049).  Saving model ...\n",
      "Epoch: 19/50 | Train Loss: 1.2434 | Train Acc: 0.4993 | Val Loss: 1.1865 | Val Acc: 0.5275\n",
      "Validation loss decreased (1.278049 --> 1.186466).  Saving model ...\n",
      "Epoch: 20/50 | Train Loss: 1.2035 | Train Acc: 0.5179 | Val Loss: 1.2377 | Val Acc: 0.5010\n",
      "EarlyStopping counter: 1 out of 5\n",
      "Epoch: 21/50 | Train Loss: 1.1840 | Train Acc: 0.5297 | Val Loss: 1.1921 | Val Acc: 0.5112\n",
      "EarlyStopping counter: 2 out of 5\n",
      "Epoch: 22/50 | Train Loss: 1.1598 | Train Acc: 0.5383 | Val Loss: 1.1623 | Val Acc: 0.5356\n",
      "Validation loss decreased (1.186466 --> 1.162310).  Saving model ...\n",
      "Epoch: 23/50 | Train Loss: 1.1411 | Train Acc: 0.5385 | Val Loss: 1.1174 | Val Acc: 0.5356\n",
      "Validation loss decreased (1.162310 --> 1.117442).  Saving model ...\n",
      "Epoch: 24/50 | Train Loss: 1.1139 | Train Acc: 0.5465 | Val Loss: 1.2949 | Val Acc: 0.5173\n",
      "EarlyStopping counter: 1 out of 5\n",
      "Epoch: 25/50 | Train Loss: 1.1069 | Train Acc: 0.5592 | Val Loss: 1.1812 | Val Acc: 0.5092\n",
      "EarlyStopping counter: 2 out of 5\n",
      "Epoch: 26/50 | Train Loss: 1.0435 | Train Acc: 0.5848 | Val Loss: 1.1382 | Val Acc: 0.5743\n",
      "EarlyStopping counter: 3 out of 5\n",
      "Epoch: 27/50 | Train Loss: 1.0316 | Train Acc: 0.5875 | Val Loss: 1.0965 | Val Acc: 0.5560\n",
      "Validation loss decreased (1.117442 --> 1.096467).  Saving model ...\n",
      "Epoch: 28/50 | Train Loss: 1.0169 | Train Acc: 0.6041 | Val Loss: 1.1114 | Val Acc: 0.5906\n",
      "EarlyStopping counter: 1 out of 5\n",
      "Epoch: 29/50 | Train Loss: 0.9877 | Train Acc: 0.6073 | Val Loss: 1.0988 | Val Acc: 0.6029\n",
      "EarlyStopping counter: 2 out of 5\n",
      "Epoch: 30/50 | Train Loss: 0.9532 | Train Acc: 0.6329 | Val Loss: 1.0607 | Val Acc: 0.5845\n",
      "Validation loss decreased (1.096467 --> 1.060691).  Saving model ...\n",
      "Epoch: 31/50 | Train Loss: 0.9149 | Train Acc: 0.6440 | Val Loss: 1.0439 | Val Acc: 0.6334\n",
      "Validation loss decreased (1.060691 --> 1.043934).  Saving model ...\n",
      "Epoch: 32/50 | Train Loss: 0.9059 | Train Acc: 0.6569 | Val Loss: 1.0276 | Val Acc: 0.6212\n",
      "Validation loss decreased (1.043934 --> 1.027589).  Saving model ...\n",
      "Epoch: 33/50 | Train Loss: 0.8537 | Train Acc: 0.6825 | Val Loss: 1.1608 | Val Acc: 0.5886\n",
      "EarlyStopping counter: 1 out of 5\n",
      "Epoch: 34/50 | Train Loss: 0.8261 | Train Acc: 0.6900 | Val Loss: 1.1291 | Val Acc: 0.6090\n",
      "EarlyStopping counter: 2 out of 5\n",
      "Epoch: 35/50 | Train Loss: 0.8306 | Train Acc: 0.6896 | Val Loss: 1.1045 | Val Acc: 0.6436\n",
      "EarlyStopping counter: 3 out of 5\n",
      "Epoch: 36/50 | Train Loss: 0.7956 | Train Acc: 0.7109 | Val Loss: 1.0099 | Val Acc: 0.6497\n",
      "Validation loss decreased (1.027589 --> 1.009859).  Saving model ...\n",
      "Epoch: 37/50 | Train Loss: 0.7531 | Train Acc: 0.7213 | Val Loss: 1.0064 | Val Acc: 0.6741\n",
      "Validation loss decreased (1.009859 --> 1.006379).  Saving model ...\n",
      "Epoch: 38/50 | Train Loss: 0.7571 | Train Acc: 0.7295 | Val Loss: 1.0682 | Val Acc: 0.6253\n",
      "EarlyStopping counter: 1 out of 5\n",
      "Epoch: 39/50 | Train Loss: 0.7036 | Train Acc: 0.7481 | Val Loss: 1.0891 | Val Acc: 0.6477\n",
      "EarlyStopping counter: 2 out of 5\n",
      "Epoch: 40/50 | Train Loss: 0.7039 | Train Acc: 0.7422 | Val Loss: 0.9462 | Val Acc: 0.6945\n",
      "Validation loss decreased (1.006379 --> 0.946173).  Saving model ...\n",
      "Epoch: 41/50 | Train Loss: 0.6601 | Train Acc: 0.7615 | Val Loss: 1.1192 | Val Acc: 0.6558\n",
      "EarlyStopping counter: 1 out of 5\n",
      "Epoch: 42/50 | Train Loss: 0.6570 | Train Acc: 0.7639 | Val Loss: 0.8941 | Val Acc: 0.7067\n",
      "Validation loss decreased (0.946173 --> 0.894128).  Saving model ...\n",
      "Epoch: 43/50 | Train Loss: 0.5939 | Train Acc: 0.7939 | Val Loss: 0.9839 | Val Acc: 0.7026\n",
      "EarlyStopping counter: 1 out of 5\n",
      "Epoch: 44/50 | Train Loss: 0.6008 | Train Acc: 0.7812 | Val Loss: 1.0936 | Val Acc: 0.6558\n",
      "EarlyStopping counter: 2 out of 5\n",
      "Epoch: 45/50 | Train Loss: 0.6024 | Train Acc: 0.7902 | Val Loss: 0.9998 | Val Acc: 0.6986\n",
      "EarlyStopping counter: 3 out of 5\n",
      "Epoch: 46/50 | Train Loss: 0.5522 | Train Acc: 0.8100 | Val Loss: 1.0839 | Val Acc: 0.7067\n",
      "EarlyStopping counter: 4 out of 5\n",
      "Epoch: 47/50 | Train Loss: 0.5717 | Train Acc: 0.7998 | Val Loss: 0.8837 | Val Acc: 0.7271\n",
      "Validation loss decreased (0.894128 --> 0.883713).  Saving model ...\n",
      "Epoch: 48/50 | Train Loss: 0.5155 | Train Acc: 0.8252 | Val Loss: 1.1039 | Val Acc: 0.6334\n",
      "EarlyStopping counter: 1 out of 5\n",
      "Epoch: 49/50 | Train Loss: 0.5127 | Train Acc: 0.8270 | Val Loss: 1.0744 | Val Acc: 0.6782\n",
      "EarlyStopping counter: 2 out of 5\n",
      "Epoch: 50/50 | Train Loss: 0.4577 | Train Acc: 0.8424 | Val Loss: 1.1882 | Val Acc: 0.6864\n",
      "EarlyStopping counter: 3 out of 5\n"
     ]
    }
   ],
   "source": [
    "\n",
    "print(\"\\n--- Starting Training ---\")\n",
    "for epoch in range(1, EPOCHS + 1):\n",
    "    # --- Training Phase ---\n",
    "    model.train()\n",
    "    running_loss = 0.0\n",
    "    correct_train = 0\n",
    "    total_train = 0\n",
    "    \n",
    "    for inputs, labels in train_loader:\n",
    "        inputs, labels = inputs.to(device), labels.to(device)\n",
    "        \n",
    "        optimizer.zero_grad()\n",
    "        \n",
    "        outputs = model(inputs)\n",
    "        loss = criterion(outputs, labels)\n",
    "        \n",
    "        loss.backward()\n",
    "        optimizer.step()\n",
    "        \n",
    "        running_loss += loss.item() * inputs.size(0)\n",
    "        \n",
    "        _, predicted = torch.max(outputs.data, 1)\n",
    "        total_train += labels.size(0)\n",
    "        correct_train += (predicted == labels).sum().item()\n",
    "\n",
    "    train_loss = running_loss / len(train_loader.dataset)\n",
    "    train_acc = correct_train / total_train\n",
    "\n",
    "    # --- Validation Phase ---\n",
    "    model.eval()\n",
    "    val_loss = 0.0\n",
    "    correct_val = 0\n",
    "    total_val = 0\n",
    "    \n",
    "    with torch.no_grad():\n",
    "        for inputs, labels in val_loader:\n",
    "            inputs, labels = inputs.to(device), labels.to(device)\n",
    "            \n",
    "            outputs = model(inputs)\n",
    "            loss = criterion(outputs, labels)\n",
    "            \n",
    "            val_loss += loss.item() * inputs.size(0)\n",
    "            \n",
    "            _, predicted = torch.max(outputs.data, 1)\n",
    "            total_val += labels.size(0)\n",
    "            correct_val += (predicted == labels).sum().item()\n",
    "\n",
    "    avg_val_loss = val_loss / len(val_loader.dataset)\n",
    "    val_acc = correct_val / total_val\n",
    "    \n",
    "    print(f\"Epoch: {epoch}/{EPOCHS} | \"\n",
    "          f\"Train Loss: {train_loss:.4f} | Train Acc: {train_acc:.4f} | \"\n",
    "          f\"Val Loss: {avg_val_loss:.4f} | Val Acc: {val_acc:.4f}\")\n",
    "    \n",
    "    # Early stopping call\n",
    "    early_stopper(avg_val_loss, model)\n",
    "    if early_stopper.early_stop:\n",
    "        print(\"Early stopping triggered\")\n",
    "        break"
   ]
  },
  {
   "cell_type": "code",
   "execution_count": 88,
   "metadata": {
    "execution": {
     "iopub.execute_input": "2025-06-24T14:32:38.171790Z",
     "iopub.status.busy": "2025-06-24T14:32:38.171517Z",
     "iopub.status.idle": "2025-06-24T14:32:38.187466Z",
     "shell.execute_reply": "2025-06-24T14:32:38.186853Z",
     "shell.execute_reply.started": "2025-06-24T14:32:38.171766Z"
    },
    "trusted": true
   },
   "outputs": [
    {
     "name": "stdout",
     "output_type": "stream",
     "text": [
      "\n",
      "--- Training Finished ---\n",
      "Best model weights loaded for final evaluation.\n"
     ]
    }
   ],
   "source": [
    "# --- Post-Training ---\n",
    "print(\"\\n--- Training Finished ---\")\n",
    "# Load the best model weights found during training\n",
    "model.load_state_dict(torch.load('checkpoint.pt'))\n",
    "print(\"Best model weights loaded for final evaluation.\")"
   ]
  },
  {
   "cell_type": "code",
   "execution_count": 89,
   "metadata": {
    "execution": {
     "iopub.execute_input": "2025-06-24T14:32:38.189266Z",
     "iopub.status.busy": "2025-06-24T14:32:38.189025Z",
     "iopub.status.idle": "2025-06-24T14:32:38.202678Z",
     "shell.execute_reply": "2025-06-24T14:32:38.201986Z",
     "shell.execute_reply.started": "2025-06-24T14:32:38.189246Z"
    },
    "trusted": true
   },
   "outputs": [],
   "source": [
    "from sklearn.metrics import classification_report, confusion_matrix\n",
    "import seaborn as sns\n",
    "import matplotlib.pyplot as plt"
   ]
  },
  {
   "cell_type": "code",
   "execution_count": 90,
   "metadata": {
    "execution": {
     "iopub.execute_input": "2025-06-24T14:32:38.203806Z",
     "iopub.status.busy": "2025-06-24T14:32:38.203547Z",
     "iopub.status.idle": "2025-06-24T14:32:38.647154Z",
     "shell.execute_reply": "2025-06-24T14:32:38.646335Z",
     "shell.execute_reply.started": "2025-06-24T14:32:38.203788Z"
    },
    "trusted": true
   },
   "outputs": [
    {
     "name": "stdout",
     "output_type": "stream",
     "text": [
      "\n",
      "--- Generating Classification Report for Validation Set ---\n",
      "\n",
      "Classification Report:\n",
      "              precision    recall  f1-score   support\n",
      "\n",
      "       angry       0.85      0.84      0.85        76\n",
      "        calm       0.81      0.84      0.82        75\n",
      "     disgust       0.85      0.74      0.79        38\n",
      "        fear       0.64      0.77      0.70        75\n",
      "       happy       0.66      0.68      0.67        76\n",
      "     neutral       0.79      0.50      0.61        38\n",
      "         sad       0.61      0.65      0.63        75\n",
      "    surprise       0.75      0.63      0.69        38\n",
      "\n",
      "    accuracy                           0.73       491\n",
      "   macro avg       0.75      0.71      0.72       491\n",
      "weighted avg       0.73      0.73      0.73       491\n",
      "\n",
      "\n",
      "Confusion Matrix:\n"
     ]
    },
    {
     "data": {
      "image/png": "[encoded data removed]",
      "text/plain": [
       "<Figure size 1000x800 with 2 Axes>"
      ]
     },
     "metadata": {},
     "output_type": "display_data"
    }
   ],
   "source": [
    "# --- 5. Evaluate the Final Model on the Validation Set ---\n",
    "print(\"\\n--- Generating Classification Report for Validation Set ---\")\n",
    "\n",
    "# Put the model in evaluation mode\n",
    "model.eval()\n",
    "\n",
    "# Store predictions and true labels\n",
    "all_preds = []\n",
    "all_labels = []\n",
    "\n",
    "# No need to track gradients for evaluation\n",
    "with torch.no_grad():\n",
    "    for inputs, labels in val_loader:\n",
    "        inputs, labels = inputs.to(device), labels.to(device)\n",
    "        \n",
    "        outputs = model(inputs)\n",
    "        \n",
    "        # Get the predicted class (the one with the highest probability)\n",
    "        _, predicted = torch.max(outputs.data, 1)\n",
    "        \n",
    "        # Append batch predictions and labels to the lists\n",
    "        all_preds.extend(predicted.cpu().numpy())\n",
    "        all_labels.extend(labels.cpu().numpy())\n",
    "\n",
    "# Get the class names from the label encoder\n",
    "class_names = le.classes_\n",
    "\n",
    "# Print the classification report\n",
    "print(\"\\nClassification Report:\")\n",
    "print(classification_report(all_labels, all_preds, target_names=class_names))\n",
    "\n",
    "\n",
    "# --- (Optional but Recommended) Visualize the Confusion Matrix ---\n",
    "print(\"\\nConfusion Matrix:\")\n",
    "cm = confusion_matrix(all_labels, all_preds)\n",
    "cm_df = pd.DataFrame(cm, index=class_names, columns=class_names)\n",
    "\n",
    "plt.figure(figsize=(10, 8))\n",
    "sns.heatmap(cm_df, annot=True, fmt='d', cmap='Blues')\n",
    "plt.title('Confusion Matrix for Validation Set')\n",
    "plt.ylabel('Actual Label')\n",
    "plt.xlabel('Predicted Label')\n",
    "plt.show()"
   ]
  },
  {
   "cell_type": "code",
   "execution_count": null,
   "metadata": {
    "trusted": true
   },
   "outputs": [],
   "source": []
  }
 ],
 "metadata": {
  "kaggle": {
   "accelerator": "nvidiaTeslaT4",
   "dataSources": [
    {
     "datasetId": 7732279,
     "sourceId": 12270311,
     "sourceType": "datasetVersion"
    }
   ],
   "dockerImageVersionId": 31041,
   "isGpuEnabled": true,
   "isInternetEnabled": true,
   "language": "python",
   "sourceType": "notebook"
  },
  "kernelspec": {
   "display_name": "Python 3",
   "language": "python",
   "name": "python3"
  },
  "language_info": {
   "codemirror_mode": {
    "name": "ipython",
    "version": 3
   },
   "file_extension": ".py",
   "mimetype": "text/x-python",
   "name": "python",
   "nbconvert_exporter": "python",
   "pygments_lexer": "ipython3",
   "version": "3.11.11"
  }
 },
 "nbformat": 4,
 "nbformat_minor": 4
}
